{
 "cells": [
  {
   "cell_type": "code",
   "execution_count": 18,
   "id": "174a7031",
   "metadata": {},
   "outputs": [],
   "source": [
    "import os\n",
    "import numpy as np\n",
    "import random\n",
    "import pandas as pd\n",
    "import matplotlib.pyplot as plt\n",
    "from sklearn.metrics import roc_curve, auc\n",
    "from sklearn.linear_model import LogisticRegression\n",
    "from sklearn.metrics import roc_auc_score\n",
    "from sklearn.preprocessing import StandardScaler\n",
    "from sklearn.impute import SimpleImputer\n",
    "from sklearn.metrics import accuracy_score\n",
    "from sklearn import metrics\n",
    "from sklearn.ensemble import RandomForestClassifier\n",
    "from sklearn.metrics import accuracy_score, confusion_matrix, precision_score, recall_score, ConfusionMatrixDisplay\n",
    "from sklearn.model_selection import RandomizedSearchCV, train_test_split\n",
    "from scipy.stats import randint\n",
    "from sklearn.tree import export_graphviz\n",
    "from IPython.display import Image\n"
   ]
  },
  {
   "cell_type": "code",
   "execution_count": 19,
   "id": "0dad1c1b",
   "metadata": {},
   "outputs": [],
   "source": [
    "import os\n",
    "import pandas as pd\n",
    "import numpy as np\n",
    "\n",
    "class ReadmissionReader:\n",
    "    def __init__(self, root_dir, mode='train', seed=42):\n",
    "        assert mode in ['train', 'test'], \"Mode must be 'train' or 'test'\"\n",
    "        self.root_dir = root_dir\n",
    "        self.mode_dir = os.path.join(root_dir, mode)\n",
    "        self.seed = seed\n",
    "        self.patient_files = self._get_patient_files()\n",
    "        np.random.seed(seed)\n",
    "        np.random.shuffle(self.patient_files)\n",
    "\n",
    "    def _get_patient_files(self):\n",
    "        patient_files = []\n",
    "        for patient in os.listdir(self.mode_dir):\n",
    "            patient_dir = os.path.join(self.mode_dir, patient)\n",
    "            if os.path.isdir(patient_dir):\n",
    "                patient_files.append(patient_dir)\n",
    "        return patient_files\n",
    "\n",
    "    def get_number_of_examples(self):\n",
    "        return len(self.patient_files)\n",
    "\n",
    "    def read_example(self, i):\n",
    "        patient_dir = self.patient_files[i]\n",
    "        patient_id = os.path.basename(patient_dir)\n",
    "        episode_files = [f for f in os.listdir(patient_dir) if f.startswith('episode')]\n",
    "        episode_timeseries_files = [f for f in episode_files if f.endswith('_timeseries.csv')]\n",
    "        episode_timeseries_files.sort()\n",
    "\n",
    "        # Check if there are any episode timeseries files\n",
    "        if not episode_timeseries_files:\n",
    "            return None\n",
    "\n",
    "        # Load the first episode timeseries data\n",
    "        episode1_timeseries_file = episode_timeseries_files[0]\n",
    "        episode1_timeseries_path = os.path.join(patient_dir, episode1_timeseries_file)\n",
    "        episode1_timeseries_data = pd.read_csv(episode1_timeseries_path)\n",
    "        episode1_timeseries_data = episode1_timeseries_data.fillna('')\n",
    "        # Get the header\n",
    "        header = episode1_timeseries_data.columns.tolist()\n",
    "\n",
    "        # Check if there are more than one episode timeseries files\n",
    "        y_label = 1 if len(episode_timeseries_files) > 1 else 0\n",
    "\n",
    "        # Get the total time\n",
    "        total_time = float(episode1_timeseries_data.iloc[-1, 0])\n",
    "\n",
    "        example = {\n",
    "            'X': episode1_timeseries_data.values.astype(str),\n",
    "            't': total_time,\n",
    "            'y': y_label,\n",
    "            'header': header,\n",
    "            'name': f\"{patient_id}_{episode1_timeseries_file}\"\n",
    "        }\n",
    "\n",
    "        return example"
   ]
  },
  {
   "cell_type": "code",
   "execution_count": 20,
   "id": "b46761fe",
   "metadata": {},
   "outputs": [],
   "source": [
    "root_dir = r'C:\\Users\\samit\\OneDrive\\Desktop\\Datasets\\data\\root'"
   ]
  },
  {
   "cell_type": "code",
   "execution_count": 21,
   "id": "171fc19c",
   "metadata": {},
   "outputs": [],
   "source": [
    "train_reader = ReadmissionReader(root_dir, mode='train')\n",
    "test_reader = ReadmissionReader(root_dir, mode='test')"
   ]
  },
  {
   "cell_type": "code",
   "execution_count": 22,
   "id": "ef061ff6",
   "metadata": {},
   "outputs": [],
   "source": [
    "global_category_mapping = {\n",
    "  'Glascow coma scale eye opening': {'': 0,\n",
    "  'To Pain': 1,\n",
    "  'None': 2,\n",
    "  'Spontaneously': 3,\n",
    "  'To Speech': 4,\n",
    "  '4 Spontaneously': 5,\n",
    "  '1 No Response': 6,\n",
    "  '2 To pain': 7,\n",
    "  '3 To speech': 8},\n",
    " 'Glascow coma scale motor response': {'': 0,\n",
    "  'Localizes Pain': 1,\n",
    "  '3 Abnorm flexion': 2,\n",
    "  'Abnormal extension': 3,\n",
    "  '5 Localizes Pain': 4,\n",
    "  '6 Obeys Commands': 5,\n",
    "  'Flex-withdraws': 6,\n",
    "  '2 Abnorm extensn': 7,\n",
    "  'Obeys Commands': 8,\n",
    "  'Abnormal Flexion': 9,\n",
    "  'No response': 10,\n",
    "  '4 Flex-withdraws': 11,\n",
    "  '1 No Response': 12},\n",
    " 'Glascow coma scale verbal response': {'': 0,\n",
    "  'Inappropriate Words': 1,\n",
    "  'Incomprehensible sounds': 2,\n",
    "  'Oriented': 3,\n",
    "  '2 Incomp sounds': 4,\n",
    "  '4 Confused': 5,\n",
    "  'No Response-ETT': 6,\n",
    "  '3 Inapprop words': 7,\n",
    "  'Confused': 8,\n",
    "  'No Response': 9,\n",
    "  '1.0 ET/Trach': 10,\n",
    "  '5 Oriented': 11,\n",
    "  '1 No Response': 12}}"
   ]
  },
  {
   "cell_type": "code",
   "execution_count": 23,
   "id": "038934a9",
   "metadata": {},
   "outputs": [],
   "source": [
    "import numpy as np\n",
    "import pandas as pd\n",
    "\n",
    "TIME_WINDOWS = [(0, 6), (0, 12), (0, '25%'), (0, '50%'), (0, '100%')]\n",
    "\n",
    "CHANNELS = {\n",
    "    'Diastolic blood pressure': 'numerical',\n",
    "    'Fraction inspired oxygen': 'numerical',\n",
    "    'Glascow coma scale eye opening': 'categorical',\n",
    "    'Glascow coma scale motor response': 'categorical',\n",
    "    'Glascow coma scale total': 'numerical',\n",
    "    'Glascow coma scale verbal response': 'categorical',\n",
    "    'Glucose': 'numerical',\n",
    "    'Heart Rate': 'numerical',\n",
    "    'Mean blood pressure': 'numerical',\n",
    "    'Oxygen saturation': 'numerical',\n",
    "    'Respiratory rate': 'numerical',\n",
    "    'Systolic blood pressure': 'numerical',\n",
    "    'Temperature': 'numerical',\n",
    "    'Weight': 'numerical'\n",
    "}\n",
    "\n",
    "admission_mapping = {'UNKNOWN': 0, 'EMERGENCY': 1, 'ELECTIVE': 2, 'URGENT': 3}\n",
    "dbsource_mapping = {'carevue': 1, 'metavision': 2, 'both': 3}\n",
    "icu_unit_mapping = {'MICU': 1, 'CCU': 2, 'TSICU': 3, 'SICU': 4, 'CSRU': 5}\n",
    "\n",
    "def extract_features_from_reader(train_reader, index, root):\n",
    "     # Read the example data from the reader\n",
    "    example_data = train_reader.read_example(index)\n",
    "    if example_data is None:\n",
    "        return None, None\n",
    "    try: \n",
    "        ts_data = pd.DataFrame(data=example_data['X'], columns=example_data['header'])\n",
    "\n",
    "    #     Replace empty strings with NaN\n",
    "    #     ts_data = ts_data.replace('', np.nan)\n",
    "\n",
    "    #     # Forward fill to carry forward the last known value\n",
    "    #     ts_data = ts_data.fillna(method='ffill')\n",
    "\n",
    "    #     # Backward fill to fill any remaining NaNs\n",
    "    #     ts_data = ts_data.fillna(method='bfill')\n",
    "\n",
    "    #     # If there are still any NaNs, fill them with 0\n",
    "    #     ts_data = ts_data.fillna(0)\n",
    "    #     ts_data = ts_data.apply(pd.to_numeric, errors='coerce')\n",
    "        ts_data['Hours'] = ts_data['Hours'].astype(float)\n",
    "\n",
    "        all_features = []\n",
    "        all_categorical_features = []\n",
    "        labels = []\n",
    "        for start_hour, end_hour in TIME_WINDOWS:\n",
    "            # Determine the end_hour for percentage-based windows\n",
    "            if isinstance(start_hour, str):\n",
    "                start_hour = ts_data['Hours'].quantile(0.75)\n",
    "            if isinstance(end_hour, str):\n",
    "                end_hour = ts_data['Hours'].max()\n",
    "    #             total_hours = ts_data['Hours'].max()\n",
    "    #             end_hour = total_hours * float(end_hour.strip('%')) / 100.0\n",
    "\n",
    "\n",
    "\n",
    "            # Filter the data for the current time window\n",
    "            ts_window_data = ts_data[(ts_data['Hours'] >= start_hour) & (ts_data['Hours'] <= end_hour)]\n",
    "            ts_window_data_num = ts_window_data.apply(pd.to_numeric, errors='coerce')\n",
    "            features = []\n",
    "            for channel, channel_type in CHANNELS.items():\n",
    "                if channel_type == 'numerical'and channel in list(CHANNELS.keys()):\n",
    "                    # Debug: Check if mean_value is NaN\n",
    "\n",
    "                    # Extract statistics for numerical channels\n",
    "                    features.append(ts_window_data_num[channel].mean())\n",
    "                    features.append(ts_window_data_num[channel].std())\n",
    "                    features.append(ts_window_data_num[channel].min())\n",
    "                    features.append(ts_window_data_num[channel].max())\n",
    "                    features.append(ts_window_data_num[channel].skew())\n",
    "    #                 features.append(ts_window_data[channel].iloc[-1] if not ts_window_data[channel].empty else np.nan)\n",
    "                    features.append(len(ts_window_data_num[channel]))\n",
    "                    features.append(ts_window_data_num[channel].quantile(0.25))\n",
    "                    features.append(ts_window_data_num[channel].quantile(0.75))\n",
    "                    features.append(ts_window_data_num[channel].quantile(0.75) - ts_window_data_num[channel].quantile(0.25))\n",
    "\n",
    "\n",
    "                if channel_type == 'categorical':\n",
    "                    # Get the value counts\n",
    "                    value_counts = ts_window_data[channel].value_counts()\n",
    "\n",
    "                    # Find the most frequent non-empty category\n",
    "                    most_frequent_category = ''\n",
    "                    for category in value_counts.index:\n",
    "                        if category != '':\n",
    "                            most_frequent_category = category\n",
    "                            break\n",
    "\n",
    "                    # If no non-empty category is found, default to zero\n",
    "                    if most_frequent_category == '':\n",
    "                        mapped_value = 0\n",
    "                    else:\n",
    "                        # Map it to its numerical value\n",
    "                        mapped_value = global_category_mapping[channel].get(most_frequent_category, 0)\n",
    "\n",
    "                    # Append it to the categorical features list\n",
    "                    all_categorical_features.append(mapped_value)\n",
    "\n",
    "            all_features.extend(features)\n",
    "        all_features =  np.array(all_features)\n",
    "        all_features = np.nan_to_num(all_features)\n",
    "        # Convert categorical features list to NumPy array and append it to all_features\n",
    "        all_categorical_features = np.array(all_categorical_features)\n",
    "\n",
    "        # Extract the patient ID and episode number from the file name\n",
    "        file_name = example_data['name']\n",
    "        patient_id, episode_num = file_name.split('_')[0], file_name.split('_')[1].replace('episode', '')\n",
    "\n",
    "        # Define the root directory and train folder\n",
    "        if root == 'train':\n",
    "            train_dir = os.path.join(root_dir, 'train')\n",
    "        elif root == 'test':\n",
    "            train_dir = os.path.join(root_dir, 'test')\n",
    "\n",
    "        # Load the combined data\n",
    "        combined_data = pd.read_csv('combined_data')\n",
    "\n",
    "        # Access the patient folder\n",
    "        patient_path = os.path.join(train_dir, patient_id)\n",
    "\n",
    "        # Load the stays data\n",
    "        stays_data = pd.read_csv(os.path.join(patient_path, 'stays.csv'))\n",
    "\n",
    "        # Access the episode folder\n",
    "        #episode_path = os.path.join(patient_path, f'episode{episode_num}')\n",
    "\n",
    "        # Load the episode data\n",
    "        episode_data = pd.read_csv(os.path.join(patient_path, f'episode{episode_num}.csv'))\n",
    "\n",
    "        # Extract the relevant features\n",
    "        age = episode_data['Age'].values[0]\n",
    "        weight = episode_data['Weight'].values[0]\n",
    "        ethnicity = episode_data['Ethnicity'].values[0]\n",
    "        gender = episode_data['Gender'].values[0]\n",
    "        dbsource = stays_data['DBSOURCE'].values[0]\n",
    "        last_careunit = stays_data['LAST_CAREUNIT'].values[0]\n",
    "\n",
    "        # Get the admission type from the combined data\n",
    "        # Get the admission type from the combined data\n",
    "        icustay_id = stays_data['ICUSTAY_ID'].values[0]\n",
    "        matching_rows = combined_data[combined_data['ICUSTAY_ID'] == icustay_id]\n",
    "\n",
    "        if not matching_rows.empty:\n",
    "            admission_type = matching_rows['ADMISSION_TYPE'].values[0]\n",
    "        else:\n",
    "            # Handle the case where there are no matching rows\n",
    "            print(f\"No matching rows found for ICUSTAY_ID {icustay_id}\")\n",
    "            admission_type = \"UNKNOWN\"\n",
    "\n",
    "\n",
    "        # Map the categorical variables to their numerical representations\n",
    "        mapped_admission_type = admission_mapping.get(admission_type, 0)  # Default to 0 if not found\n",
    "        mapped_dbsource = dbsource_mapping.get(dbsource, 0)  # Default to 0 if not found\n",
    "        mapped_last_careunit = icu_unit_mapping.get(last_careunit, 0)  # Default to 0 if not found\n",
    "\n",
    "        # Create the static data vector with the mapped values\n",
    "        static_data_vector = [age, weight, gender, ethnicity, mapped_dbsource, mapped_last_careunit, mapped_admission_type]\n",
    "\n",
    "\n",
    "        all_features = np.concatenate((all_features, all_categorical_features,static_data_vector))\n",
    "\n",
    "        labels.append(example_data['y'])\n",
    "\n",
    "        return all_features, labels \n",
    "    \n",
    "    except Exception as e:\n",
    "        print(f\"An error occurred: {e}\")\n",
    "        return None, None\n",
    "    \n",
    "# Example usage\n",
    "# all_features = extract_features_from_reader(train_reader, 0)\n"
   ]
  },
  {
   "cell_type": "code",
   "execution_count": 24,
   "id": "cf41b5c5",
   "metadata": {},
   "outputs": [
    {
     "name": "stdout",
     "output_type": "stream",
     "text": [
      "No matching rows found for ICUSTAY_ID 246075\n",
      "No matching rows found for ICUSTAY_ID 292281\n",
      "No matching rows found for ICUSTAY_ID 265303\n",
      "No matching rows found for ICUSTAY_ID 283217\n"
     ]
    }
   ],
   "source": [
    "train_features = []\n",
    "train_labels = []\n",
    "for i in range(train_reader.get_number_of_examples()):\n",
    "    all_features, label = extract_features_from_reader(train_reader, i,'train')\n",
    "    if all_features is None or label is None:\n",
    "        continue\n",
    "    train_features.append(all_features)\n",
    "    train_labels.append(label)"
   ]
  },
  {
   "cell_type": "code",
   "execution_count": 8,
   "id": "b53b0ea9",
   "metadata": {},
   "outputs": [],
   "source": [
    "# val_features = []\n",
    "# val_labels = []\n",
    "# for i in range(val_reader.get_number_of_examples()):\n",
    "#     all_features, label = extract_features_from_reader(val_reader, i,'train')\n",
    "#     val_features.append(all_features)\n",
    "#     val_labels.append(label)"
   ]
  },
  {
   "cell_type": "code",
   "execution_count": 25,
   "id": "6fb45e59",
   "metadata": {},
   "outputs": [],
   "source": [
    "test_features = []\n",
    "test_labels = []\n",
    "for i in range(test_reader.get_number_of_examples()):\n",
    "    all_features, label = extract_features_from_reader(test_reader, i,'test')\n",
    "    if all_features is None or label is None:\n",
    "        continue\n",
    "    test_features.append(all_features)\n",
    "    test_labels.append(label)"
   ]
  },
  {
   "cell_type": "code",
   "execution_count": 26,
   "id": "547582a9",
   "metadata": {},
   "outputs": [],
   "source": [
    "train_features = np.array(train_features)\n",
    "#val_features = np.array(val_features)\n",
    "test_features = np.array(test_features)"
   ]
  },
  {
   "cell_type": "code",
   "execution_count": 27,
   "id": "23513f9b",
   "metadata": {},
   "outputs": [],
   "source": [
    "train_labels = np.array(train_labels)\n",
    "#val_labels = np.array(val_labels)\n",
    "test_labels = np.array(test_labels)"
   ]
  },
  {
   "cell_type": "code",
   "execution_count": 28,
   "id": "9c775a35",
   "metadata": {},
   "outputs": [],
   "source": [
    "# Define the indices of the categorical features\n",
    "categorical_indices = list(range(495, 511)) + list(range(512, 518))\n",
    "\n",
    "# Define the indices of the numerical features\n",
    "numerical_indices = [i for i in range(train_features.shape[1]) if i not in categorical_indices]\n",
    "\n",
    "# Initialize the StandardScaler\n",
    "scaler = StandardScaler()\n",
    "\n",
    "# Fit the scaler on the training data and transform both\n",
    "train_features[:, numerical_indices] = scaler.fit_transform(train_features[:, numerical_indices])\n",
    "\n",
    "# Use the same scaler to transform the validation and test data\n",
    "#val_features[:, numerical_indices] = scaler.transform(val_features[:, numerical_indices])\n",
    "test_features[:, numerical_indices] = scaler.transform(test_features[:, numerical_indices])\n"
   ]
  },
  {
   "cell_type": "code",
   "execution_count": 29,
   "id": "213baf7d",
   "metadata": {},
   "outputs": [
    {
     "data": {
      "text/plain": [
       "array([[0],\n",
       "       [0],\n",
       "       [1],\n",
       "       ...,\n",
       "       [0],\n",
       "       [0],\n",
       "       [0]])"
      ]
     },
     "execution_count": 29,
     "metadata": {},
     "output_type": "execute_result"
    }
   ],
   "source": []
  },
  {
   "cell_type": "code",
   "execution_count": null,
   "id": "74dec777",
   "metadata": {},
   "outputs": [],
   "source": []
  },
  {
   "cell_type": "code",
   "execution_count": 30,
   "id": "ee9f901c",
   "metadata": {},
   "outputs": [],
   "source": [
    "train_labels = train_labels.reshape(-1)\n",
    "#val_labels = val_labels.reshape(-1)\n",
    "test_labels = test_labels.reshape(-1)"
   ]
  },
  {
   "cell_type": "code",
   "execution_count": 31,
   "id": "f9f1a1ea",
   "metadata": {},
   "outputs": [
    {
     "data": {
      "text/plain": [
       "array([0, 0, 1, ..., 0, 0, 0])"
      ]
     },
     "execution_count": 31,
     "metadata": {},
     "output_type": "execute_result"
    }
   ],
   "source": [
    "train_labels"
   ]
  },
  {
   "cell_type": "code",
   "execution_count": 33,
   "id": "717473bc",
   "metadata": {},
   "outputs": [],
   "source": [
    "from sklearn.impute import SimpleImputer\n",
    "imputer = SimpleImputer(strategy='mean')\n",
    "X_train = imputer.fit_transform(train_features)\n",
    "#X_val = imputer.transform(val_features)\n",
    "X_test = imputer.transform(test_features)"
   ]
  },
  {
   "cell_type": "code",
   "execution_count": 34,
   "id": "680cc1b9",
   "metadata": {},
   "outputs": [],
   "source": [
    "np.save('X_train_r.npy',X_train)\n",
    "#np.save('X_val_r.npy',X_val)\n",
    "np.save('X_test_r.npy',X_test)\n",
    "np.save('train_labels_r',train_labels)\n",
    "#np.save('val_labels_r',val_labels)\n",
    "np.save('test_labels_r',test_labels)"
   ]
  },
  {
   "cell_type": "code",
   "execution_count": 35,
   "id": "5ce1cbb3",
   "metadata": {},
   "outputs": [
    {
     "data": {
      "text/plain": [
       "array([ 3.92387383e-02, -1.11243039e-02,  2.97141269e-02,  8.37639179e-03,\n",
       "        1.43689482e+00,  6.19996936e-01,  3.92793437e-01,  1.00604267e-02,\n",
       "       -9.17420049e-01, -4.70000227e-01, -2.99654146e-01, -4.56571356e-01,\n",
       "       -4.63468119e-01, -1.32360349e-01,  6.19996936e-01, -4.63053070e-01,\n",
       "       -4.68461978e-01, -2.87334391e-01, -4.61499060e-01, -3.26957811e-01,\n",
       "       -4.14217563e-01, -4.96177390e-01,  3.75021963e-02,  6.19996936e-01,\n",
       "       -4.39647669e-01, -4.80152838e-01, -3.14450885e-01,  6.74812297e-01,\n",
       "        1.08801565e-01,  7.22701382e-01,  6.12407426e-01,  1.39127890e+00,\n",
       "        6.19996936e-01,  6.65658375e-01,  6.70868339e-01,  3.13525515e-01,\n",
       "        4.44704813e-01, -7.17111500e-01,  7.05402950e-01,  8.99361645e-02,\n",
       "       -7.68894019e-01,  6.19996936e-01,  5.29824271e-01,  3.55783282e-01,\n",
       "       -4.65150704e-01, -4.31871437e-02,  2.30304036e-01, -3.98547139e-01,\n",
       "        4.15413078e-01,  6.39054891e-01,  6.19996936e-01, -1.14905929e-01,\n",
       "       -1.24016895e-01, -5.37228383e-02, -2.33309557e-02,  2.57474996e+00,\n",
       "       -1.88245788e+00,  1.97845821e-01, -1.18891740e+00,  6.19996936e-01,\n",
       "        2.70577365e-01,  2.61502679e-01, -5.93336452e-02, -1.23589052e-02,\n",
       "       -5.23718289e-03, -2.07190487e+00, -6.24040157e-03, -2.25387489e-01,\n",
       "        6.19996936e-01, -2.92567444e+00, -1.14383097e+00,  3.00332984e+00,\n",
       "       -9.41381572e-02,  1.44179384e-02, -9.73747143e-01,  1.86535253e-03,\n",
       "        1.45133003e-01,  6.19996936e-01, -7.03987099e-01, -3.84008510e-01,\n",
       "        7.23768827e-01,  1.55234772e-01,  1.81581441e-01,  1.18732767e-01,\n",
       "        2.14193060e-01,  1.03044518e+00,  6.19996936e-01,  1.24005787e-01,\n",
       "        1.83897144e-01,  1.11556714e+00, -6.77819093e-01, -6.74636252e-02,\n",
       "       -6.76695282e-01, -6.78381164e-01, -1.02014904e-01,  6.19996936e-01,\n",
       "       -6.77344120e-01, -6.78061698e-01, -6.35198618e-02,  8.20071115e-02,\n",
       "       -1.94507256e-02,  2.47582282e-01, -2.51214346e-03, -2.06376643e-02,\n",
       "        7.78917476e-01,  5.18438798e-01,  3.59530974e-01, -2.71557910e-01,\n",
       "       -4.93710564e-01, -3.38629166e-01, -4.78127053e-01, -4.81535900e-01,\n",
       "       -2.31936939e-01,  7.78917476e-01, -4.85275062e-01, -4.88053726e-01,\n",
       "       -3.11379873e-01, -5.44482469e-01, -4.61396575e-01, -4.37712687e-01,\n",
       "       -6.06110994e-01,  1.32144897e-01,  7.78917476e-01, -5.00891146e-01,\n",
       "       -5.80056868e-01, -4.09868065e-01,  1.34572201e+00,  9.25116066e-01,\n",
       "        9.81436008e-01,  1.59221587e+00,  9.84421243e-01,  7.78917476e-01,\n",
       "        9.12678342e-01,  1.54280067e+00,  1.71155431e+00,  7.86830714e-01,\n",
       "        1.55009955e-02,  9.46229882e-01,  8.39678067e-01,  8.13601836e-01,\n",
       "        7.78917476e-01,  8.56069083e-01,  7.52336914e-01, -6.32049976e-02,\n",
       "        3.39860900e-02, -5.06657842e-03, -2.68787382e-01,  8.49365335e-02,\n",
       "       -2.07720098e-01,  7.78917476e-01, -7.64865475e-04,  1.66575237e-01,\n",
       "        3.99631473e-01, -5.09530352e-03, -2.06181587e-03, -2.15691548e+00,\n",
       "       -5.77911624e-03, -1.87060920e+00,  7.78917476e-01,  2.40090351e-01,\n",
       "        2.44749699e-01, -5.02935408e-03, -1.58554978e-02, -4.66894542e-03,\n",
       "       -2.00032342e+00, -5.83032836e-03,  1.69428752e-01,  7.78917476e-01,\n",
       "       -3.37455191e+00, -8.88154507e-01,  3.84146333e+00, -2.04848253e-01,\n",
       "        1.53013444e-02, -9.56479536e-01, -7.62077309e-03, -2.46684261e-01,\n",
       "        7.78917476e-01, -7.42950702e-01, -2.42013205e-01,  1.09492553e+00,\n",
       "        1.26276494e-01,  1.73662086e-01,  1.83930271e-02,  1.45412210e-01,\n",
       "       -7.21281807e-01,  7.78917476e-01,  7.46752335e-02,  1.65752728e-01,\n",
       "        1.12656442e+00, -9.29843062e-01, -1.38431058e-02, -1.05394827e+00,\n",
       "       -7.21273749e-01, -1.46606523e-01,  7.78917476e-01, -1.01862024e+00,\n",
       "       -8.23083335e-01, -1.48412393e-02,  8.49734776e-02, -1.57750901e-02,\n",
       "       -5.33169661e-01, -2.16662017e-02,  2.54170786e-01,  1.07158645e+00,\n",
       "        5.47921191e-02,  2.27226144e-01,  4.91598356e-01, -5.34627484e-01,\n",
       "       -3.61834751e-01, -4.90848329e-01, -4.20843217e-01, -2.75538929e-01,\n",
       "        1.07158645e+00, -5.24402740e-01, -5.26770403e-01, -3.29639475e-01,\n",
       "        7.61751081e-01,  2.30955378e+00, -3.83876944e-01,  9.48210806e-01,\n",
       "       -6.60169755e-01,  1.07158645e+00,  3.65298699e-01,  1.01564902e+00,\n",
       "        2.41985122e+00, -4.16884072e-02,  1.19811397e-02, -3.87661424e-01,\n",
       "        6.58120332e-03,  1.69511626e+00,  1.07158645e+00, -2.99251746e-01,\n",
       "       -2.82145389e-01, -1.47487068e-01, -1.69562336e-02,  1.88148594e-01,\n",
       "       -1.65299175e+00,  3.37109437e-02, -5.23377565e-01,  1.07158645e+00,\n",
       "       -2.85652574e-01,  1.54891382e-01,  1.00286751e+00,  8.68676795e-02,\n",
       "        3.66082164e-02, -3.57429309e-01,  1.41795142e-02,  4.00573953e-01,\n",
       "        1.07158645e+00, -2.40504671e-01,  1.83324983e-01,  9.99750478e-01,\n",
       "       -5.31277245e-03, -5.85094962e-03, -1.56501405e+00, -7.42590395e-03,\n",
       "       -1.45501189e+00,  1.07158645e+00,  1.14696484e-01,  4.45050764e-02,\n",
       "       -2.49446820e-01,  1.01685902e-02, -2.36994554e-03, -1.57288096e+00,\n",
       "       -5.25249032e-03, -3.37330544e-01,  1.07158645e+00, -7.53025769e-01,\n",
       "        1.21452062e+00,  3.37878164e+00,  3.66241660e-02,  4.67522885e-02,\n",
       "       -6.82126021e-01,  2.67416594e-02,  8.89544101e-01,  1.07158645e+00,\n",
       "       -3.52768878e-01,  2.49278869e-01,  1.46746584e+00,  8.04312974e-02,\n",
       "       -3.12897102e-02, -2.22161409e-02, -3.80644412e-03, -8.01614757e-01,\n",
       "        1.07158645e+00,  1.19319554e-01,  6.88311299e-02, -5.19547556e-01,\n",
       "       -3.06425930e-03, -5.90629626e-03,  6.66259247e-01, -5.31281161e-03,\n",
       "        7.66018230e-01,  1.07158645e+00,  6.38092188e-01,  4.98757511e-01,\n",
       "        5.45071388e-03,  8.49734776e-02, -1.57750901e-02, -5.33169661e-01,\n",
       "       -2.16662017e-02,  2.54170786e-01,  1.07158645e+00,  5.47921191e-02,\n",
       "        2.27226144e-01,  4.91598356e-01, -5.34627484e-01, -3.61834751e-01,\n",
       "       -4.90848329e-01, -4.20843217e-01, -2.75538929e-01,  1.07158645e+00,\n",
       "       -5.24402740e-01, -5.26770403e-01, -3.29639475e-01,  7.61751081e-01,\n",
       "        2.30955378e+00, -3.83876944e-01,  9.48210806e-01, -6.60169755e-01,\n",
       "        1.07158645e+00,  3.65298699e-01,  1.01564902e+00,  2.41985122e+00,\n",
       "       -4.16884072e-02,  1.19811397e-02, -3.87661424e-01,  6.58120332e-03,\n",
       "        1.69511626e+00,  1.07158645e+00, -2.99251746e-01, -2.82145389e-01,\n",
       "       -1.47487068e-01, -1.69562336e-02,  1.88148594e-01, -1.65299175e+00,\n",
       "        3.37109437e-02, -5.23377565e-01,  1.07158645e+00, -2.85652574e-01,\n",
       "        1.54891382e-01,  1.00286751e+00,  8.68676795e-02,  3.66082164e-02,\n",
       "       -3.57429309e-01,  1.41795142e-02,  4.00573953e-01,  1.07158645e+00,\n",
       "       -2.40504671e-01,  1.83324983e-01,  9.99750478e-01, -5.31277245e-03,\n",
       "       -5.85094962e-03, -1.56501405e+00, -7.42590395e-03, -1.45501189e+00,\n",
       "        1.07158645e+00,  1.14696484e-01,  4.45050764e-02, -2.49446820e-01,\n",
       "        1.01685902e-02, -2.36994554e-03, -1.57288096e+00, -5.25249032e-03,\n",
       "       -3.37330544e-01,  1.07158645e+00, -7.53025769e-01,  1.21452062e+00,\n",
       "        3.37878164e+00,  3.66241660e-02,  4.67522885e-02, -6.82126021e-01,\n",
       "        2.67416594e-02,  8.89544101e-01,  1.07158645e+00, -3.52768878e-01,\n",
       "        2.49278869e-01,  1.46746584e+00,  8.04312974e-02, -3.12897102e-02,\n",
       "       -2.22161409e-02, -3.80644412e-03, -8.01614757e-01,  1.07158645e+00,\n",
       "        1.19319554e-01,  6.88311299e-02, -5.19547556e-01, -3.06425930e-03,\n",
       "       -5.90629626e-03,  6.66259247e-01, -5.31281161e-03,  7.66018230e-01,\n",
       "        1.07158645e+00,  6.38092188e-01,  4.98757511e-01,  5.45071388e-03,\n",
       "        8.49734776e-02, -1.57750901e-02, -5.33169661e-01, -2.16662017e-02,\n",
       "        2.54170786e-01,  1.07158645e+00,  5.47921191e-02,  2.27226144e-01,\n",
       "        4.91598356e-01, -5.34627484e-01, -3.61834751e-01, -4.90848329e-01,\n",
       "       -4.20843217e-01, -2.75538929e-01,  1.07158645e+00, -5.24402740e-01,\n",
       "       -5.26770403e-01, -3.29639475e-01,  7.61751081e-01,  2.30955378e+00,\n",
       "       -3.83876944e-01,  9.48210806e-01, -6.60169755e-01,  1.07158645e+00,\n",
       "        3.65298699e-01,  1.01564902e+00,  2.41985122e+00, -4.16884072e-02,\n",
       "        1.19811397e-02, -3.87661424e-01,  6.58120332e-03,  1.69511626e+00,\n",
       "        1.07158645e+00, -2.99251746e-01, -2.82145389e-01, -1.47487068e-01,\n",
       "       -1.69562336e-02,  1.88148594e-01, -1.65299175e+00,  3.37109437e-02,\n",
       "       -5.23377565e-01,  1.07158645e+00, -2.85652574e-01,  1.54891382e-01,\n",
       "        1.00286751e+00,  8.68676795e-02,  3.66082164e-02, -3.57429309e-01,\n",
       "        1.41795142e-02,  4.00573953e-01,  1.07158645e+00, -2.40504671e-01,\n",
       "        1.83324983e-01,  9.99750478e-01, -5.31277245e-03, -5.85094962e-03,\n",
       "       -1.56501405e+00, -7.42590395e-03, -1.45501189e+00,  1.07158645e+00,\n",
       "        1.14696484e-01,  4.45050764e-02, -2.49446820e-01,  1.01685902e-02,\n",
       "       -2.36994554e-03, -1.57288096e+00, -5.25249032e-03, -3.37330544e-01,\n",
       "        1.07158645e+00, -7.53025769e-01,  1.21452062e+00,  3.37878164e+00,\n",
       "        3.66241660e-02,  4.67522885e-02, -6.82126021e-01,  2.67416594e-02,\n",
       "        8.89544101e-01,  1.07158645e+00, -3.52768878e-01,  2.49278869e-01,\n",
       "        1.46746584e+00,  8.04312974e-02, -3.12897102e-02, -2.22161409e-02,\n",
       "       -3.80644412e-03, -8.01614757e-01,  1.07158645e+00,  1.19319554e-01,\n",
       "        6.88311299e-02, -5.19547556e-01, -3.06425930e-03, -5.90629626e-03,\n",
       "        6.66259247e-01, -5.31281161e-03,  7.66018230e-01,  1.07158645e+00,\n",
       "        6.38092188e-01,  4.98757511e-01,  5.45071388e-03,  6.00000000e+00,\n",
       "        1.20000000e+01,  1.00000000e+01,  6.00000000e+00,  1.20000000e+01,\n",
       "        1.00000000e+01,  5.00000000e+00,  5.00000000e+00,  1.10000000e+01,\n",
       "        5.00000000e+00,  5.00000000e+00,  1.10000000e+01,  5.00000000e+00,\n",
       "        5.00000000e+00,  1.10000000e+01,  6.73712418e+01,  1.09518409e-01,\n",
       "        2.00000000e+00,  0.00000000e+00,  1.00000000e+00,  5.00000000e+00,\n",
       "        1.00000000e+00])"
      ]
     },
     "execution_count": 35,
     "metadata": {},
     "output_type": "execute_result"
    }
   ],
   "source": [
    "X_train[0]"
   ]
  },
  {
   "cell_type": "code",
   "execution_count": 36,
   "id": "1dc2db0b",
   "metadata": {},
   "outputs": [
    {
     "name": "stdout",
     "output_type": "stream",
     "text": [
      "Total number of NaN values in the array: 0\n"
     ]
    }
   ],
   "source": [
    "import numpy as np\n",
    "\n",
    "# Assume your_array is the array you want to check\n",
    "num_nan = np.isnan(X_train).sum()\n",
    "\n",
    "print(f\"Total number of NaN values in the array: {num_nan}\")\n",
    "\n"
   ]
  },
  {
   "cell_type": "code",
   "execution_count": 52,
   "id": "22da2429",
   "metadata": {
    "scrolled": false
   },
   "outputs": [
    {
     "name": "stderr",
     "output_type": "stream",
     "text": [
      "C:\\Users\\samit\\anaconda3\\lib\\site-packages\\sklearn\\linear_model\\_logistic.py:814: ConvergenceWarning: lbfgs failed to converge (status=1):\n",
      "STOP: TOTAL NO. of ITERATIONS REACHED LIMIT.\n",
      "\n",
      "Increase the number of iterations (max_iter) or scale the data as shown in:\n",
      "    https://scikit-learn.org/stable/modules/preprocessing.html\n",
      "Please also refer to the documentation for alternative solver options:\n",
      "    https://scikit-learn.org/stable/modules/linear_model.html#logistic-regression\n",
      "  n_iter_i = _check_optimize_result(\n"
     ]
    },
    {
     "data": {
      "text/plain": [
       "LogisticRegression(C=0.2, class_weight='balanced', max_iter=1000)"
      ]
     },
     "execution_count": 52,
     "metadata": {},
     "output_type": "execute_result"
    }
   ],
   "source": [
    "model = LogisticRegression(penalty = 'l2',C = 0.2, class_weight = 'balanced', max_iter = 1000)\n",
    "model.fit(X_train, train_labels)"
   ]
  },
  {
   "cell_type": "code",
   "execution_count": 53,
   "id": "1ff1eebe",
   "metadata": {},
   "outputs": [],
   "source": [
    "y_test_pred = model.predict(X_test)"
   ]
  },
  {
   "cell_type": "code",
   "execution_count": 54,
   "id": "96eca0ba",
   "metadata": {},
   "outputs": [
    {
     "name": "stdout",
     "output_type": "stream",
     "text": [
      "\n",
      "Test Metrics:\n",
      "Accuracy: 0.5896980461811723\n",
      "Precision: 0.2188041594454073\n",
      "Recall: 0.646606914212548\n",
      "F1 Score: 0.32696665587568796\n",
      "ROC AUC: 0.6129674795047808\n"
     ]
    }
   ],
   "source": [
    "from sklearn.metrics import accuracy_score, precision_score, recall_score, f1_score, roc_auc_score\n",
    "\n",
    "# Assuming y_val_true and y_test_true are your ground truth labels for validation and test sets respectively\n",
    "# and y_val_pred and y_test_pred are the predicted labels from your model for validation and test sets respectively\n",
    "\n",
    "# # Validation metrics\n",
    "# val_accuracy = accuracy_score(val_labels, y_val_pred)\n",
    "# val_precision = precision_score(val_labels, y_val_pred)\n",
    "# val_recall = recall_score(val_labels, y_val_pred)\n",
    "# val_f1 = f1_score(val_labels, y_val_pred)\n",
    "# val_roc_auc = roc_auc_score(val_labels, y_val_pred)\n",
    "\n",
    "# print(\"Validation Metrics:\")\n",
    "# print(f\"Accuracy: {val_accuracy}\")\n",
    "# print(f\"Precision: {val_precision}\")\n",
    "# print(f\"Recall: {val_recall}\")\n",
    "# print(f\"F1 Score: {val_f1}\")\n",
    "# print(f\"ROC AUC: {val_roc_auc}\")\n",
    "\n",
    "# Test metrics\n",
    "test_accuracy = accuracy_score(test_labels, y_test_pred)\n",
    "test_precision = precision_score(test_labels, y_test_pred)\n",
    "test_recall = recall_score(test_labels, y_test_pred)\n",
    "test_f1 = f1_score(test_labels, y_test_pred)\n",
    "test_roc_auc = roc_auc_score(test_labels, y_test_pred)\n",
    "\n",
    "print(\"\\nTest Metrics:\")\n",
    "print(f\"Accuracy: {test_accuracy}\")\n",
    "print(f\"Precision: {test_precision}\")\n",
    "print(f\"Recall: {test_recall}\")\n",
    "print(f\"F1 Score: {test_f1}\")\n",
    "print(f\"ROC AUC: {test_roc_auc}\")\n"
   ]
  },
  {
   "cell_type": "code",
   "execution_count": 63,
   "id": "50538103",
   "metadata": {},
   "outputs": [
    {
     "data": {
      "image/png": "[encoded data removed]",
      "text/plain": [
       "<Figure size 1200x600 with 1 Axes>"
      ]
     },
     "metadata": {},
     "output_type": "display_data"
    }
   ],
   "source": [
    "# Model names and AUC-ROC values\n",
    "import numpy as np\n",
    "import matplotlib.pyplot as plt\n",
    "import seaborn as sns\n",
    "model_names = [\"Logistic Regression\",\"Normal LSTM\", \"Bidirectional LSTM\", \"LSTM without Multimodality\", \"Channel-wise LSTM\"]\n",
    "micro_auc_values = [0.613,0.670, 0.614, 0.606, 0.651]\n",
    "macro_auc_values = [0.624014295026788,0.65,0.64,0.66,0.64]\n",
    "\n",
    "# Combine the data and sort by Micro and Macro AUC-ROC values\n",
    "data_micro = list(zip(model_names, micro_auc_values))\n",
    "data_macro = list(zip(model_names, macro_auc_values))\n",
    "\n",
    "data_micro.sort(key=lambda x: x[1], reverse=True)\n",
    "data_macro.sort(key=lambda x: x[1], reverse=True)\n",
    "\n",
    "sorted_model_names_micro, sorted_micro_auc = zip(*data_micro)\n",
    "sorted_model_names_macro, sorted_macro_auc = zip(*data_macro)\n",
    "\n",
    "# Set up the bar positions\n",
    "bar_width = 0.6\n",
    "index = np.arange(len(model_names))\n",
    "\n",
    "# Create the bars\n",
    "sns.set_style(\"whitegrid\")\n",
    "\n",
    "# Plot for Micro AUC-ROC\n",
    "plt.figure(figsize=(12, 6))\n",
    "bar1 = plt.bar(index, sorted_micro_auc, bar_width,  color=sns.color_palette(\"pastel\")[0], label='Micro AUC-ROC')\n",
    "plt.xlabel('Model', fontsize=14)\n",
    "plt.ylabel('AUC-ROC Value', fontsize=14)\n",
    "plt.title('Comparison of AUC-ROC values across models', fontsize=16)\n",
    "plt.xticks(index, sorted_model_names_micro, rotation=45, ha='right', fontsize=12)\n",
    "plt.ylim(0.58, 0.68)\n",
    "plt.plot(index, sorted_micro_auc, color='red', marker='o', linestyle='dashed', linewidth=1, markersize=5)\n",
    "for i, v in enumerate(sorted_micro_auc):\n",
    "    plt.text(i, v + 0.005, \"{:.2f}\".format(v), ha='center')\n",
    "plt.tight_layout()\n",
    "plt.show()"
   ]
  },
  {
   "cell_type": "code",
   "execution_count": null,
   "id": "5d030e46",
   "metadata": {},
   "outputs": [],
   "source": []
  },
  {
   "cell_type": "code",
   "execution_count": null,
   "id": "1b9d6642",
   "metadata": {},
   "outputs": [],
   "source": []
  },
  {
   "cell_type": "code",
   "execution_count": null,
   "id": "a278b9ca",
   "metadata": {},
   "outputs": [],
   "source": []
  },
  {
   "cell_type": "code",
   "execution_count": 55,
   "id": "82bbc66a",
   "metadata": {},
   "outputs": [],
   "source": [
    "# Define a function to plot the AUC-ROC curve for each model\n",
    "def plot_roc_curve(model, X_val, y_val, label, color):\n",
    "    y_pred = model.predict(X_val)\n",
    "    fpr, tpr, _ = roc_curve(y_val, y_pred)\n",
    "    auc_value = auc(fpr, tpr)\n",
    "    plt.plot(fpr, tpr, color=color, label='{} AUC = {:.2f}'.format(label, auc_value))"
   ]
  },
  {
   "cell_type": "code",
   "execution_count": 56,
   "id": "09ba06b7",
   "metadata": {},
   "outputs": [
    {
     "data": {
      "image/png": "[encoded data removed]",
      "text/plain": [
       "<Figure size 800x600 with 1 Axes>"
      ]
     },
     "metadata": {},
     "output_type": "display_data"
    }
   ],
   "source": [
    "# Plot the AUC-ROC curves for each model in a single plot\n",
    "plt.figure(figsize=(8, 6))\n",
    "plot_roc_curve(model, X_test, test_labels, 'Normal LSTM', 'blue')\n",
    "plt.plot([0, 1], [0, 1], linestyle='--', color='gray')\n",
    "plt.xlabel('False Positive Rate')\n",
    "plt.ylabel('True Positive Rate')\n",
    "plt.title('ROC Curve')\n",
    "plt.legend()\n",
    "plt.show()"
   ]
  },
  {
   "cell_type": "code",
   "execution_count": null,
   "id": "85e533da",
   "metadata": {},
   "outputs": [],
   "source": []
  },
  {
   "cell_type": "code",
   "execution_count": 57,
   "id": "f5e80eba",
   "metadata": {},
   "outputs": [
    {
     "data": {
      "text/plain": [
       "RandomForestClassifier()"
      ]
     },
     "execution_count": 57,
     "metadata": {},
     "output_type": "execute_result"
    }
   ],
   "source": [
    "rf = RandomForestClassifier()\n",
    "rf.fit(X_train, train_labels)"
   ]
  },
  {
   "cell_type": "code",
   "execution_count": 58,
   "id": "18a0ee28",
   "metadata": {},
   "outputs": [],
   "source": [
    "y_pred_r = rf.predict(X_test)"
   ]
  },
  {
   "cell_type": "code",
   "execution_count": 59,
   "id": "fb020aac",
   "metadata": {},
   "outputs": [],
   "source": [
    "test_roc_auc_rf = roc_auc_score(test_labels, y_pred_r)"
   ]
  },
  {
   "cell_type": "code",
   "execution_count": 60,
   "id": "f14d201d",
   "metadata": {},
   "outputs": [
    {
     "name": "stdout",
     "output_type": "stream",
     "text": [
      "0.5009304330628919\n"
     ]
    }
   ],
   "source": [
    "print(test_roc_auc_rf)"
   ]
  },
  {
   "cell_type": "code",
   "execution_count": 52,
   "id": "83cadd45",
   "metadata": {},
   "outputs": [
    {
     "data": {
      "text/plain": [
       "RandomizedSearchCV(cv=5, estimator=RandomForestClassifier(), n_iter=5,\n",
       "                   param_distributions={'max_depth': <scipy.stats._distn_infrastructure.rv_discrete_frozen object at 0x0000020A9236F3A0>,\n",
       "                                        'n_estimators': <scipy.stats._distn_infrastructure.rv_discrete_frozen object at 0x0000020A923519A0>})"
      ]
     },
     "execution_count": 52,
     "metadata": {},
     "output_type": "execute_result"
    }
   ],
   "source": [
    "param_dist = {'n_estimators': randint(50,500),\n",
    "              'max_depth': randint(1,20)}\n",
    "\n",
    "# Create a random forest classifier\n",
    "rf = RandomForestClassifier()\n",
    "\n",
    "# Use random search to find the best hyperparameters\n",
    "rand_search = RandomizedSearchCV(rf, \n",
    "                                 param_distributions = param_dist, \n",
    "                                 n_iter=5, \n",
    "                                 cv=5)\n",
    "\n",
    "# Fit the random search object to the data\n",
    "rand_search.fit(X_train, train_labels)"
   ]
  },
  {
   "cell_type": "code",
   "execution_count": 53,
   "id": "972773f7",
   "metadata": {},
   "outputs": [
    {
     "name": "stdout",
     "output_type": "stream",
     "text": [
      "Best hyperparameters: {'max_depth': 16, 'n_estimators': 226}\n"
     ]
    }
   ],
   "source": [
    "# Create a variable for the best model\n",
    "best_rf = rand_search.best_estimator_\n",
    "\n",
    "# Print the best hyperparameters\n",
    "print('Best hyperparameters:',  rand_search.best_params_)"
   ]
  },
  {
   "cell_type": "code",
   "execution_count": 54,
   "id": "549bacc2",
   "metadata": {},
   "outputs": [
    {
     "data": {
      "image/png": "[encoded data removed]",
      "text/plain": [
       "<Figure size 640x480 with 2 Axes>"
      ]
     },
     "metadata": {},
     "output_type": "display_data"
    }
   ],
   "source": [
    "y_pred_cv = best_rf.predict(X_test)\n",
    "\n",
    "# Create the confusion matrix\n",
    "cm = confusion_matrix(test_labels, y_pred_cv)\n",
    "\n",
    "ConfusionMatrixDisplay(confusion_matrix=cm).plot();"
   ]
  },
  {
   "cell_type": "code",
   "execution_count": 55,
   "id": "2070245e",
   "metadata": {},
   "outputs": [],
   "source": [
    "test_roc_auc_cv = roc_auc_score(test_labels, y_pred_cv)"
   ]
  },
  {
   "cell_type": "code",
   "execution_count": 56,
   "id": "d69c985b",
   "metadata": {},
   "outputs": [
    {
     "name": "stdout",
     "output_type": "stream",
     "text": [
      "0.5605023598919271\n"
     ]
    }
   ],
   "source": [
    "print(test_roc_auc_cv)"
   ]
  },
  {
   "cell_type": "code",
   "execution_count": null,
   "id": "aa889928",
   "metadata": {},
   "outputs": [],
   "source": []
  },
  {
   "cell_type": "code",
   "execution_count": null,
   "id": "dcd52a7f",
   "metadata": {},
   "outputs": [],
   "source": []
  },
  {
   "cell_type": "code",
   "execution_count": null,
   "id": "022f1dad",
   "metadata": {},
   "outputs": [],
   "source": []
  },
  {
   "cell_type": "code",
   "execution_count": 203,
   "id": "3e5149e6",
   "metadata": {},
   "outputs": [],
   "source": [
    "all_features, label = extract_features_from_reader(train_reader, 0,'train')"
   ]
  },
  {
   "cell_type": "code",
   "execution_count": 204,
   "id": "1f871167",
   "metadata": {},
   "outputs": [
    {
     "data": {
      "text/plain": [
       "517"
      ]
     },
     "execution_count": 204,
     "metadata": {},
     "output_type": "execute_result"
    }
   ],
   "source": [
    "len(all_features)"
   ]
  },
  {
   "cell_type": "code",
   "execution_count": 205,
   "id": "048898c1",
   "metadata": {},
   "outputs": [
    {
     "data": {
      "text/plain": [
       "array([ 7.62142857e+01,  1.55690984e+01,  3.40000000e+01,  9.80000000e+01,\n",
       "       -1.26809674e+00,  3.10000000e+01,  7.07500000e+01,  8.60000000e+01,\n",
       "        1.52500000e+01,  0.00000000e+00,  0.00000000e+00,  0.00000000e+00,\n",
       "        0.00000000e+00,  0.00000000e+00,  3.10000000e+01,  0.00000000e+00,\n",
       "        0.00000000e+00,  0.00000000e+00,  1.50000000e+01,  0.00000000e+00,\n",
       "        1.50000000e+01,  1.50000000e+01,  0.00000000e+00,  3.10000000e+01,\n",
       "        1.50000000e+01,  1.50000000e+01,  0.00000000e+00,  3.94000000e+02,\n",
       "        7.21248917e+01,  3.43000000e+02,  4.45000000e+02,  0.00000000e+00,\n",
       "        3.10000000e+01,  3.68500000e+02,  4.19500000e+02,  5.10000000e+01,\n",
       "        1.31500000e+02,  1.09865237e+01,  1.03000000e+02,  1.50000000e+02,\n",
       "       -5.11255331e-01,  3.10000000e+01,  1.25250000e+02,  1.39000000e+02,\n",
       "        1.37500000e+01,  9.09404392e+01,  1.70404881e+01,  4.33333015e+01,\n",
       "        1.11000000e+02, -1.34440588e+00,  3.10000000e+01,  8.49166756e+01,\n",
       "        1.01333000e+02,  1.64163246e+01,  9.70416667e+01,  9.87521785e+00,\n",
       "        6.40000000e+01,  1.00000000e+02, -3.22270066e+00,  3.10000000e+01,\n",
       "        1.00000000e+02,  1.00000000e+02,  0.00000000e+00,  2.41481481e+01,\n",
       "        6.03007656e+00,  1.60000000e+01,  4.00000000e+01,  1.18397699e+00,\n",
       "        3.10000000e+01,  2.00000000e+01,  2.70000000e+01,  7.00000000e+00,\n",
       "        1.21892857e+02,  2.01666011e+01,  7.70000000e+01,  1.55000000e+02,\n",
       "       -5.16129591e-01,  3.10000000e+01,  1.05750000e+02,  1.34500000e+02,\n",
       "        2.87500000e+01,  3.44444603e+01,  3.92814622e-01,  3.41666985e+01,\n",
       "        3.47222222e+01,  0.00000000e+00,  3.10000000e+01,  3.43055794e+01,\n",
       "        3.45833413e+01,  2.77761883e-01,  0.00000000e+00,  0.00000000e+00,\n",
       "        0.00000000e+00,  0.00000000e+00,  0.00000000e+00,  3.10000000e+01,\n",
       "        0.00000000e+00,  0.00000000e+00,  0.00000000e+00,  7.72580645e+01,\n",
       "        1.51678778e+01,  3.40000000e+01,  9.80000000e+01, -1.39449456e+00,\n",
       "        4.10000000e+01,  7.20000000e+01,  8.60000000e+01,  1.40000000e+01,\n",
       "        0.00000000e+00,  0.00000000e+00,  0.00000000e+00,  0.00000000e+00,\n",
       "        0.00000000e+00,  4.10000000e+01,  0.00000000e+00,  0.00000000e+00,\n",
       "        0.00000000e+00,  1.50000000e+01,  0.00000000e+00,  1.50000000e+01,\n",
       "        1.50000000e+01,  0.00000000e+00,  4.10000000e+01,  1.50000000e+01,\n",
       "        1.50000000e+01,  0.00000000e+00,  3.64625000e+02,  6.59587263e+01,\n",
       "        2.57000000e+02,  4.45000000e+02, -2.49113816e-01,  4.10000000e+01,\n",
       "        3.29250000e+02,  4.28500000e+02,  9.92500000e+01,  1.25193548e+02,\n",
       "        2.21937219e+01,  6.50000000e+01,  1.50000000e+02, -1.83169450e+00,\n",
       "        4.10000000e+01,  1.21500000e+02,  1.38500000e+02,  1.70000000e+01,\n",
       "        9.37203967e+01,  1.83383881e+01,  4.33333015e+01,  1.22000000e+02,\n",
       "       -1.03647607e+00,  4.10000000e+01,  8.68333511e+01,  1.06000000e+02,\n",
       "        1.91666489e+01,  9.71923077e+01,  9.49112946e+00,  6.40000000e+01,\n",
       "        1.00000000e+02, -3.36663701e+00,  4.10000000e+01,  1.00000000e+02,\n",
       "        1.00000000e+02,  0.00000000e+00,  2.27666667e+01,  7.09872904e+00,\n",
       "        1.00000000e+01,  4.00000000e+01,  4.59431940e-01,  4.10000000e+01,\n",
       "        1.92500000e+01,  2.65000000e+01,  7.25000000e+00,  1.26032258e+02,\n",
       "        2.31667634e+01,  7.70000000e+01,  1.74000000e+02, -1.50343355e-01,\n",
       "        4.10000000e+01,  1.08500000e+02,  1.37000000e+02,  2.85000000e+01,\n",
       "        3.42407516e+01,  4.49047203e-01,  3.38333342e+01,  3.47222222e+01,\n",
       "        7.21920765e-01,  4.10000000e+01,  3.40000163e+01,  3.44444603e+01,\n",
       "        4.44444021e-01,  0.00000000e+00,  0.00000000e+00,  0.00000000e+00,\n",
       "        0.00000000e+00,  0.00000000e+00,  4.10000000e+01,  0.00000000e+00,\n",
       "        0.00000000e+00,  0.00000000e+00,  7.04128440e+01,  1.57104654e+01,\n",
       "        0.00000000e+00,  1.06000000e+02, -7.66677184e-01,  1.40000000e+02,\n",
       "        6.10000000e+01,  8.20000000e+01,  2.10000000e+01,  0.00000000e+00,\n",
       "        0.00000000e+00,  0.00000000e+00,  0.00000000e+00,  0.00000000e+00,\n",
       "        1.40000000e+02,  0.00000000e+00,  0.00000000e+00,  0.00000000e+00,\n",
       "        5.53333333e+00,  4.18955618e+00,  3.00000000e+00,  1.50000000e+01,\n",
       "        1.75798227e+00,  1.40000000e+02,  3.00000000e+00,  6.50000000e+00,\n",
       "        3.50000000e+00,  1.90434783e+02,  1.38011471e+02,  4.60000000e+01,\n",
       "        4.45000000e+02,  7.88484036e-01,  1.40000000e+02,  8.55000000e+01,\n",
       "        3.23500000e+02,  2.38000000e+02,  1.14229358e+02,  1.99914950e+01,\n",
       "        6.50000000e+01,  1.50000000e+02, -6.59438962e-01,  1.40000000e+02,\n",
       "        1.00000000e+02,  1.29000000e+02,  2.90000000e+01,  8.55493722e+01,\n",
       "        2.09704428e+01,  3.40000000e+01,  1.43000000e+02,  3.18327742e-01,\n",
       "        1.40000000e+02,  7.07500000e+01,  1.00000000e+02,  2.92500000e+01,\n",
       "        9.46250000e+01,  7.46906767e+00,  6.40000000e+01,  1.00000000e+02,\n",
       "       -2.54671252e+00,  1.40000000e+02,  9.40000000e+01,  1.00000000e+02,\n",
       "        6.00000000e+00,  1.82777778e+01,  8.18230748e+00,  0.00000000e+00,\n",
       "        4.50000000e+01,  9.58104799e-02,  1.40000000e+02,  1.60000000e+01,\n",
       "        2.20000000e+01,  6.00000000e+00,  1.15339450e+02,  3.71147421e+01,\n",
       "        0.00000000e+00,  2.02000000e+02,  2.45828019e-01,  1.40000000e+02,\n",
       "        8.90000000e+01,  1.38000000e+02,  4.90000000e+01,  3.75499186e+01,\n",
       "        1.07408340e+00,  3.38333342e+01,  3.90999985e+01, -1.82743364e+00,\n",
       "        1.40000000e+02,  3.74000015e+01,  3.81000010e+01,  6.99999491e-01,\n",
       "        7.10000000e+01,  1.03923048e+01,  5.90000000e+01,  7.70000000e+01,\n",
       "       -1.73205081e+00,  1.40000000e+02,  6.80000000e+01,  7.70000000e+01,\n",
       "        9.00000000e+00,  7.04128440e+01,  1.57104654e+01,  0.00000000e+00,\n",
       "        1.06000000e+02, -7.66677184e-01,  1.40000000e+02,  6.10000000e+01,\n",
       "        8.20000000e+01,  2.10000000e+01,  0.00000000e+00,  0.00000000e+00,\n",
       "        0.00000000e+00,  0.00000000e+00,  0.00000000e+00,  1.40000000e+02,\n",
       "        0.00000000e+00,  0.00000000e+00,  0.00000000e+00,  5.53333333e+00,\n",
       "        4.18955618e+00,  3.00000000e+00,  1.50000000e+01,  1.75798227e+00,\n",
       "        1.40000000e+02,  3.00000000e+00,  6.50000000e+00,  3.50000000e+00,\n",
       "        1.90434783e+02,  1.38011471e+02,  4.60000000e+01,  4.45000000e+02,\n",
       "        7.88484036e-01,  1.40000000e+02,  8.55000000e+01,  3.23500000e+02,\n",
       "        2.38000000e+02,  1.14229358e+02,  1.99914950e+01,  6.50000000e+01,\n",
       "        1.50000000e+02, -6.59438962e-01,  1.40000000e+02,  1.00000000e+02,\n",
       "        1.29000000e+02,  2.90000000e+01,  8.55493722e+01,  2.09704428e+01,\n",
       "        3.40000000e+01,  1.43000000e+02,  3.18327742e-01,  1.40000000e+02,\n",
       "        7.07500000e+01,  1.00000000e+02,  2.92500000e+01,  9.46250000e+01,\n",
       "        7.46906767e+00,  6.40000000e+01,  1.00000000e+02, -2.54671252e+00,\n",
       "        1.40000000e+02,  9.40000000e+01,  1.00000000e+02,  6.00000000e+00,\n",
       "        1.82777778e+01,  8.18230748e+00,  0.00000000e+00,  4.50000000e+01,\n",
       "        9.58104799e-02,  1.40000000e+02,  1.60000000e+01,  2.20000000e+01,\n",
       "        6.00000000e+00,  1.15339450e+02,  3.71147421e+01,  0.00000000e+00,\n",
       "        2.02000000e+02,  2.45828019e-01,  1.40000000e+02,  8.90000000e+01,\n",
       "        1.38000000e+02,  4.90000000e+01,  3.75499186e+01,  1.07408340e+00,\n",
       "        3.38333342e+01,  3.90999985e+01, -1.82743364e+00,  1.40000000e+02,\n",
       "        3.74000015e+01,  3.81000010e+01,  6.99999491e-01,  7.10000000e+01,\n",
       "        1.03923048e+01,  5.90000000e+01,  7.70000000e+01, -1.73205081e+00,\n",
       "        1.40000000e+02,  6.80000000e+01,  7.70000000e+01,  9.00000000e+00,\n",
       "        7.04128440e+01,  1.57104654e+01,  0.00000000e+00,  1.06000000e+02,\n",
       "       -7.66677184e-01,  1.40000000e+02,  6.10000000e+01,  8.20000000e+01,\n",
       "        2.10000000e+01,  0.00000000e+00,  0.00000000e+00,  0.00000000e+00,\n",
       "        0.00000000e+00,  0.00000000e+00,  1.40000000e+02,  0.00000000e+00,\n",
       "        0.00000000e+00,  0.00000000e+00,  5.53333333e+00,  4.18955618e+00,\n",
       "        3.00000000e+00,  1.50000000e+01,  1.75798227e+00,  1.40000000e+02,\n",
       "        3.00000000e+00,  6.50000000e+00,  3.50000000e+00,  1.90434783e+02,\n",
       "        1.38011471e+02,  4.60000000e+01,  4.45000000e+02,  7.88484036e-01,\n",
       "        1.40000000e+02,  8.55000000e+01,  3.23500000e+02,  2.38000000e+02,\n",
       "        1.14229358e+02,  1.99914950e+01,  6.50000000e+01,  1.50000000e+02,\n",
       "       -6.59438962e-01,  1.40000000e+02,  1.00000000e+02,  1.29000000e+02,\n",
       "        2.90000000e+01,  8.55493722e+01,  2.09704428e+01,  3.40000000e+01,\n",
       "        1.43000000e+02,  3.18327742e-01,  1.40000000e+02,  7.07500000e+01,\n",
       "        1.00000000e+02,  2.92500000e+01,  9.46250000e+01,  7.46906767e+00,\n",
       "        6.40000000e+01,  1.00000000e+02, -2.54671252e+00,  1.40000000e+02,\n",
       "        9.40000000e+01,  1.00000000e+02,  6.00000000e+00,  1.82777778e+01,\n",
       "        8.18230748e+00,  0.00000000e+00,  4.50000000e+01,  9.58104799e-02,\n",
       "        1.40000000e+02,  1.60000000e+01,  2.20000000e+01,  6.00000000e+00,\n",
       "        1.15339450e+02,  3.71147421e+01,  0.00000000e+00,  2.02000000e+02,\n",
       "        2.45828019e-01,  1.40000000e+02,  8.90000000e+01,  1.38000000e+02,\n",
       "        4.90000000e+01,  3.75499186e+01,  1.07408340e+00,  3.38333342e+01,\n",
       "        3.90999985e+01, -1.82743364e+00,  1.40000000e+02,  3.74000015e+01,\n",
       "        3.81000010e+01,  6.99999491e-01,  7.10000000e+01,  1.03923048e+01,\n",
       "        5.90000000e+01,  7.70000000e+01, -1.73205081e+00,  1.40000000e+02,\n",
       "        6.80000000e+01,  7.70000000e+01,  9.00000000e+00,  5.00000000e+00,\n",
       "        5.00000000e+00,  1.10000000e+01,  5.00000000e+00,  5.00000000e+00,\n",
       "        1.10000000e+01,  6.00000000e+00,  1.20000000e+01,  1.00000000e+01,\n",
       "        6.00000000e+00,  1.20000000e+01,  1.00000000e+01,  6.00000000e+00,\n",
       "        1.20000000e+01,  1.00000000e+01,  4.86823935e+01,  5.90000000e+01,\n",
       "        2.00000000e+00,  4.00000000e+00,  1.00000000e+00,  5.00000000e+00,\n",
       "        1.00000000e+00])"
      ]
     },
     "execution_count": 205,
     "metadata": {},
     "output_type": "execute_result"
    }
   ],
   "source": [
    "all_features"
   ]
  },
  {
   "cell_type": "code",
   "execution_count": 178,
   "id": "04cb51ad",
   "metadata": {},
   "outputs": [
    {
     "data": {
      "text/plain": [
       "[1]"
      ]
     },
     "execution_count": 178,
     "metadata": {},
     "output_type": "execute_result"
    }
   ],
   "source": [
    "label"
   ]
  },
  {
   "cell_type": "code",
   "execution_count": null,
   "id": "4e95a29d",
   "metadata": {},
   "outputs": [],
   "source": []
  },
  {
   "cell_type": "code",
   "execution_count": 185,
   "id": "9bd6a0ac",
   "metadata": {},
   "outputs": [],
   "source": [
    "total_features = []\n",
    "train_labels = []\n",
    "for i in range(train_reader.get_number_of_examples()):\n",
    "    all_features, label = extract_features_from_reader(train_reader, i,'train')\n",
    "    total_features.append(all_features)\n",
    "    train_labels.append(label)"
   ]
  },
  {
   "cell_type": "code",
   "execution_count": 208,
   "id": "8877063e",
   "metadata": {},
   "outputs": [],
   "source": [
    "from sklearn.preprocessing import StandardScaler\n",
    "import numpy as np\n",
    "X = np.array(total_features)\n",
    "# Define the indices of the categorical features\n",
    "categorical_indices = list(range(495, 511)) + list(range(512, 518))\n",
    "\n",
    "# Define the indices of the numerical features\n",
    "numerical_indices = [i for i in range(X.shape[1]) if i not in categorical_indices]\n",
    "\n",
    "# Extract the numerical features\n",
    "X_numerical = X[:, numerical_indices]\n",
    "\n",
    "# Normalize the numerical features\n",
    "scaler = StandardScaler()\n",
    "X_numerical = scaler.fit_transform(X_numerical)\n",
    "\n",
    "# Put the normalized features back into the original array\n",
    "X[:, numerical_indices] = X_numerical\n"
   ]
  },
  {
   "cell_type": "code",
   "execution_count": 211,
   "id": "8554f348",
   "metadata": {},
   "outputs": [
    {
     "data": {
      "text/plain": [
       "array([ 1.22152336e+00,  1.17780468e+00, -1.14530508e+00,  1.21141541e+00,\n",
       "       -1.36742689e+00,  2.06641449e+00,  1.19984592e+00,  1.46425324e+00,\n",
       "        7.79002235e-01, -4.94761658e-01, -3.27982535e-01, -4.83838510e-01,\n",
       "       -4.87630583e-01, -1.56549384e-01,  2.06641449e+00, -4.88999613e-01,\n",
       "       -4.91718271e-01, -3.05940340e-01,  1.29800733e+00, -3.68092336e-01,\n",
       "        1.35564950e+00,  1.22663020e+00,  3.23126479e-02,  2.06641449e+00,\n",
       "        1.32495878e+00,  1.26193882e+00, -3.03203217e-01,  2.87298087e+00,\n",
       "        1.31220108e+00,  2.65268973e+00,  2.11312305e+00, -7.18865824e-02,\n",
       "        2.06641449e+00,  2.83110339e+00,  3.04819383e+00,  1.84571091e+00,\n",
       "        2.29274292e+00,  7.47633324e-01,  1.29020979e+00,  2.29295634e+00,\n",
       "       -6.51008386e-01,  2.06641449e+00,  2.14577202e+00,  2.36357608e+00,\n",
       "        6.39098445e-01,  9.34476226e-01,  1.11158196e+00, -1.14645791e+00,\n",
       "        8.19012820e-01, -1.61289961e+00,  2.06641449e+00,  9.48300886e-01,\n",
       "        1.20242900e+00,  6.82275051e-01,  6.65793297e-02,  1.65427315e+00,\n",
       "       -2.23916194e+00,  6.19585552e-01, -1.82236359e+00,  2.06641449e+00,\n",
       "        6.08140872e-01,  7.36978775e-01, -4.64643956e-01,  9.28489455e-01,\n",
       "        1.21491611e+00,  3.60834693e-01,  2.28220298e+00,  8.76625262e-01,\n",
       "        2.06641449e+00,  4.86749330e-01,  1.02193371e+00,  1.27329385e+00,\n",
       "        1.79085582e-01,  1.04511884e+00, -9.29901168e-01,  6.61189240e-01,\n",
       "       -8.51999170e-01,  2.06641449e+00, -1.80526910e-01,  3.84103393e-01,\n",
       "        1.23247941e+00, -1.96471119e-01,  4.43052312e-01, -2.04273908e-01,\n",
       "       -1.89662072e-01, -6.65071148e-02,  2.06641449e+00, -2.00468644e-01,\n",
       "       -1.92860420e-01,  1.31876022e-01, -9.51952741e-01, -1.42001461e-01,\n",
       "       -9.51635923e-01, -9.52255309e-01, -1.13883664e-01,  2.06641449e+00,\n",
       "       -9.51637606e-01, -9.52333216e-01, -1.17786132e-01,  1.48165704e+00,\n",
       "        1.40180719e+00, -9.35531334e-01,  1.06030481e+00, -1.82861223e+00,\n",
       "        1.43645086e+00,  1.53691175e+00,  1.68208058e+00,  5.91596143e-01,\n",
       "       -5.43182918e-01, -3.96382813e-01, -5.32189352e-01, -5.35291923e-01,\n",
       "       -1.38837229e-01,  1.43645086e+00, -5.38990926e-01, -5.34849836e-01,\n",
       "       -3.26637265e-01,  1.25752990e+00, -4.67052820e-01,  1.37936388e+00,\n",
       "        1.11898954e+00,  1.47653840e-01,  1.43645086e+00,  1.30821415e+00,\n",
       "        1.17605664e+00, -3.68472952e-01,  3.07574746e+00,  9.14373501e-01,\n",
       "        2.05997603e+00,  1.96721667e+00, -3.09531823e-01,  1.43645086e+00,\n",
       "        2.97833703e+00,  3.54121249e+00,  2.24995571e+00,  2.14550521e+00,\n",
       "        2.29461449e+00, -6.58131667e-01,  2.01693895e+00, -2.16357132e+00,\n",
       "        1.43645086e+00,  2.24890923e+00,  2.40708976e+00,  5.34199899e-01,\n",
       "        1.29423414e+00,  1.03828697e+00, -9.99348568e-01,  8.26975793e-01,\n",
       "       -1.37955672e+00,  1.43645086e+00,  1.28633087e+00,  1.72904932e+00,\n",
       "        1.07206115e+00,  8.45222115e-02,  1.80589549e+00, -2.04258021e+00,\n",
       "        5.31428571e-01, -1.52959111e+00,  1.43645086e+00,  7.35904972e-01,\n",
       "        7.79581665e-01, -5.62668038e-01,  7.09459168e-01,  1.74360772e+00,\n",
       "       -3.57910228e-01,  1.90424494e+00,  2.24407256e-01,  1.43645086e+00,\n",
       "        4.41037284e-01,  9.55957698e-01,  1.24301319e+00,  4.65194914e-01,\n",
       "        1.38330485e+00, -7.79282116e-01,  1.16788830e+00, -5.20165778e-01,\n",
       "        1.43645086e+00,  6.64650504e-02,  5.40358946e-01,  9.62466242e-01,\n",
       "       -7.10840221e-01,  2.47948834e-02, -6.87771476e-01, -7.04611986e-01,\n",
       "        6.24508275e-01,  1.43645086e+00, -7.13171200e-01, -7.14942262e-01,\n",
       "       -7.57732369e-02, -1.02796935e+00, -1.92804999e-01, -1.02746015e+00,\n",
       "       -1.02852121e+00, -1.34875018e-01,  1.43645086e+00, -1.02754343e+00,\n",
       "       -1.02839471e+00, -1.52140537e-01,  1.03199498e+00,  1.99240597e+00,\n",
       "       -3.45112318e+00,  8.65362132e-01, -1.46837108e+00,  2.68031828e+00,\n",
       "        7.45759306e-01,  1.49818861e+00,  2.29007848e+00, -5.92519762e-01,\n",
       "       -4.84744870e-01, -5.67044997e-01, -5.76613238e-01, -1.80645095e-01,\n",
       "        2.68031828e+00, -5.93735751e-01, -5.82634589e-01, -3.82646871e-01,\n",
       "       -2.81669241e-01,  2.48209038e+00, -4.69631936e-01,  9.54296643e-01,\n",
       "        1.84529806e+00,  2.68031828e+00, -6.26872390e-01, -1.97615495e-01,\n",
       "        1.57932143e+00,  8.82549722e-01,  2.74738874e+00, -1.10525955e+00,\n",
       "        1.60517907e+00,  3.94951825e-01,  2.68031828e+00, -7.35214869e-01,\n",
       "        2.67491487e+00,  5.26609878e+00,  1.68309357e+00,  1.52453059e+00,\n",
       "       -1.32963422e-01,  1.38782023e+00, -1.35811626e+00,  2.68031828e+00,\n",
       "        1.27623833e+00,  1.92276818e+00,  1.29094194e+00,  7.42979341e-01,\n",
       "        2.02492925e+00, -1.25168386e+00,  8.87138640e-01, -1.61798091e-01,\n",
       "        2.68031828e+00,  4.56280985e-02,  1.34329956e+00,  3.15541065e+00,\n",
       "       -7.01399788e-01,  1.43729521e+00, -1.42104370e+00,  3.95578538e-01,\n",
       "       -4.94461145e-01,  2.68031828e+00, -3.94549716e-01,  9.45717392e-01,\n",
       "        8.50016109e-01, -2.89115329e-01,  2.17680628e+00, -1.70669164e+00,\n",
       "        2.02480219e+00,  2.54674929e-02,  2.68031828e+00, -1.70526529e-01,\n",
       "        7.37918612e-03,  2.77767715e-01, -1.53309698e-01,  3.89990203e+00,\n",
       "       -4.18205941e+00,  1.89827036e+00,  1.98944684e-01,  2.68031828e+00,\n",
       "       -1.08725147e+00,  5.19076312e-01,  3.47576155e+00,  2.90766486e-01,\n",
       "        2.29546620e+00, -6.10018072e-01,  4.86812838e-01, -2.51600410e+00,\n",
       "        2.68031828e+00,  3.57432734e-01,  3.47458030e-01, -1.81009189e-02,\n",
       "        3.30175896e-01,  2.70387748e+00,  6.46732952e-02,  4.43160224e-01,\n",
       "       -2.34953424e+00,  2.68031828e+00,  2.70328272e-01,  4.61274047e-01,\n",
       "        3.08731533e+00,  1.03199498e+00,  1.99240597e+00, -3.45112318e+00,\n",
       "        8.65362132e-01, -1.46837108e+00,  2.68031828e+00,  7.45759306e-01,\n",
       "        1.49818861e+00,  2.29007848e+00, -5.92519762e-01, -4.84744870e-01,\n",
       "       -5.67044997e-01, -5.76613238e-01, -1.80645095e-01,  2.68031828e+00,\n",
       "       -5.93735751e-01, -5.82634589e-01, -3.82646871e-01, -2.81669241e-01,\n",
       "        2.48209038e+00, -4.69631936e-01,  9.54296643e-01,  1.84529806e+00,\n",
       "        2.68031828e+00, -6.26872390e-01, -1.97615495e-01,  1.57932143e+00,\n",
       "        8.82549722e-01,  2.74738874e+00, -1.10525955e+00,  1.60517907e+00,\n",
       "        3.94951825e-01,  2.68031828e+00, -7.35214869e-01,  2.67491487e+00,\n",
       "        5.26609878e+00,  1.68309357e+00,  1.52453059e+00, -1.32963422e-01,\n",
       "        1.38782023e+00, -1.35811626e+00,  2.68031828e+00,  1.27623833e+00,\n",
       "        1.92276818e+00,  1.29094194e+00,  7.42979341e-01,  2.02492925e+00,\n",
       "       -1.25168386e+00,  8.87138640e-01, -1.61798091e-01,  2.68031828e+00,\n",
       "        4.56280985e-02,  1.34329956e+00,  3.15541065e+00, -7.01399788e-01,\n",
       "        1.43729521e+00, -1.42104370e+00,  3.95578538e-01, -4.94461145e-01,\n",
       "        2.68031828e+00, -3.94549716e-01,  9.45717392e-01,  8.50016109e-01,\n",
       "       -2.89115329e-01,  2.17680628e+00, -1.70669164e+00,  2.02480219e+00,\n",
       "        2.54674929e-02,  2.68031828e+00, -1.70526529e-01,  7.37918612e-03,\n",
       "        2.77767715e-01, -1.53309698e-01,  3.89990203e+00, -4.18205941e+00,\n",
       "        1.89827036e+00,  1.98944684e-01,  2.68031828e+00, -1.08725147e+00,\n",
       "        5.19076312e-01,  3.47576155e+00,  2.90766486e-01,  2.29546620e+00,\n",
       "       -6.10018072e-01,  4.86812838e-01, -2.51600410e+00,  2.68031828e+00,\n",
       "        3.57432734e-01,  3.47458030e-01, -1.81009189e-02,  3.30175896e-01,\n",
       "        2.70387748e+00,  6.46732952e-02,  4.43160224e-01, -2.34953424e+00,\n",
       "        2.68031828e+00,  2.70328272e-01,  4.61274047e-01,  3.08731533e+00,\n",
       "        1.03199498e+00,  1.99240597e+00, -3.45112318e+00,  8.65362132e-01,\n",
       "       -1.46837108e+00,  2.68031828e+00,  7.45759306e-01,  1.49818861e+00,\n",
       "        2.29007848e+00, -5.92519762e-01, -4.84744870e-01, -5.67044997e-01,\n",
       "       -5.76613238e-01, -1.80645095e-01,  2.68031828e+00, -5.93735751e-01,\n",
       "       -5.82634589e-01, -3.82646871e-01, -2.81669241e-01,  2.48209038e+00,\n",
       "       -4.69631936e-01,  9.54296643e-01,  1.84529806e+00,  2.68031828e+00,\n",
       "       -6.26872390e-01, -1.97615495e-01,  1.57932143e+00,  8.82549722e-01,\n",
       "        2.74738874e+00, -1.10525955e+00,  1.60517907e+00,  3.94951825e-01,\n",
       "        2.68031828e+00, -7.35214869e-01,  2.67491487e+00,  5.26609878e+00,\n",
       "        1.68309357e+00,  1.52453059e+00, -1.32963422e-01,  1.38782023e+00,\n",
       "       -1.35811626e+00,  2.68031828e+00,  1.27623833e+00,  1.92276818e+00,\n",
       "        1.29094194e+00,  7.42979341e-01,  2.02492925e+00, -1.25168386e+00,\n",
       "        8.87138640e-01, -1.61798091e-01,  2.68031828e+00,  4.56280985e-02,\n",
       "        1.34329956e+00,  3.15541065e+00, -7.01399788e-01,  1.43729521e+00,\n",
       "       -1.42104370e+00,  3.95578538e-01, -4.94461145e-01,  2.68031828e+00,\n",
       "       -3.94549716e-01,  9.45717392e-01,  8.50016109e-01, -2.89115329e-01,\n",
       "        2.17680628e+00, -1.70669164e+00,  2.02480219e+00,  2.54674929e-02,\n",
       "        2.68031828e+00, -1.70526529e-01,  7.37918612e-03,  2.77767715e-01,\n",
       "       -1.53309698e-01,  3.89990203e+00, -4.18205941e+00,  1.89827036e+00,\n",
       "        1.98944684e-01,  2.68031828e+00, -1.08725147e+00,  5.19076312e-01,\n",
       "        3.47576155e+00,  2.90766486e-01,  2.29546620e+00, -6.10018072e-01,\n",
       "        4.86812838e-01, -2.51600410e+00,  2.68031828e+00,  3.57432734e-01,\n",
       "        3.47458030e-01, -1.81009189e-02,  3.30175896e-01,  2.70387748e+00,\n",
       "        6.46732952e-02,  4.43160224e-01, -2.34953424e+00,  2.68031828e+00,\n",
       "        2.70328272e-01,  4.61274047e-01,  3.08731533e+00,  5.00000000e+00,\n",
       "        5.00000000e+00,  1.10000000e+01,  5.00000000e+00,  5.00000000e+00,\n",
       "        1.10000000e+01,  6.00000000e+00,  1.20000000e+01,  1.00000000e+01,\n",
       "        6.00000000e+00,  1.20000000e+01,  1.00000000e+01,  6.00000000e+00,\n",
       "        1.20000000e+01,  1.00000000e+01,  4.86823935e+01, -9.64728990e-01,\n",
       "        2.00000000e+00,  4.00000000e+00,  1.00000000e+00,  5.00000000e+00,\n",
       "        1.00000000e+00])"
      ]
     },
     "execution_count": 211,
     "metadata": {},
     "output_type": "execute_result"
    }
   ],
   "source": [
    "X[0]"
   ]
  },
  {
   "cell_type": "code",
   "execution_count": 194,
   "id": "9c405668",
   "metadata": {},
   "outputs": [],
   "source": [
    "labels_2d = np.array(train_labels)\n",
    "labels_1d = labels_2d.reshape(-1)"
   ]
  },
  {
   "cell_type": "code",
   "execution_count": 197,
   "id": "97b49ecc",
   "metadata": {},
   "outputs": [
    {
     "data": {
      "text/plain": [
       "array([1, 0, 0, 0, 0, 0, 0, 0, 0, 1, 0, 0, 0, 1, 0, 0, 0, 1, 0, 0, 0, 0,\n",
       "       0, 0, 0, 0, 0, 0, 0, 0, 0, 0, 0, 1, 0, 0, 0, 0, 0, 0, 0, 0, 0, 0,\n",
       "       0, 0, 1, 0, 0, 1, 0, 1, 0, 1, 0, 0, 1, 0, 0, 0, 1, 0, 0, 0, 0, 0,\n",
       "       0, 0, 0, 1, 0, 1, 0, 0, 0, 0, 0, 0, 0, 0, 0, 0, 0, 0, 0, 1, 0, 0,\n",
       "       0, 0, 0, 0, 0, 0, 0, 0, 1, 0, 0, 0, 0, 1, 1, 0, 0, 0, 0, 0, 0, 0,\n",
       "       0, 0, 1, 0, 0, 0, 0, 0, 0, 0, 0, 1, 0, 1, 0, 0, 0, 0, 0, 0, 0, 0,\n",
       "       0, 0, 0, 0, 0, 0, 0, 1, 0, 0, 0, 0, 0, 0])"
      ]
     },
     "execution_count": 197,
     "metadata": {},
     "output_type": "execute_result"
    }
   ],
   "source": [
    "labels_1d"
   ]
  },
  {
   "cell_type": "code",
   "execution_count": 184,
   "id": "17803190",
   "metadata": {},
   "outputs": [
    {
     "data": {
      "text/plain": [
       "14681"
      ]
     },
     "execution_count": 184,
     "metadata": {},
     "output_type": "execute_result"
    }
   ],
   "source": [
    "train_reader.get_number_of_examples()"
   ]
  },
  {
   "cell_type": "code",
   "execution_count": 189,
   "id": "b678ce03",
   "metadata": {},
   "outputs": [],
   "source": [
    "example = train_reader.read_example(1)"
   ]
  },
  {
   "cell_type": "code",
   "execution_count": 191,
   "id": "b4d942ba",
   "metadata": {},
   "outputs": [],
   "source": [
    "lis = []\n",
    "\n",
    "lis.append(example['y'])"
   ]
  },
  {
   "cell_type": "code",
   "execution_count": 192,
   "id": "4fc7bbb2",
   "metadata": {},
   "outputs": [
    {
     "data": {
      "text/plain": [
       "[0]"
      ]
     },
     "execution_count": 192,
     "metadata": {},
     "output_type": "execute_result"
    }
   ],
   "source": [
    "lis"
   ]
  },
  {
   "cell_type": "code",
   "execution_count": null,
   "id": "89129fe0",
   "metadata": {},
   "outputs": [],
   "source": []
  }
 ],
 "metadata": {
  "kernelspec": {
   "display_name": "Python 3 (ipykernel)",
   "language": "python",
   "name": "python3"
  },
  "language_info": {
   "codemirror_mode": {
    "name": "ipython",
    "version": 3
   },
   "file_extension": ".py",
   "mimetype": "text/x-python",
   "name": "python",
   "nbconvert_exporter": "python",
   "pygments_lexer": "ipython3",
   "version": "3.9.13"
  }
 },
 "nbformat": 4,
 "nbformat_minor": 5
}
