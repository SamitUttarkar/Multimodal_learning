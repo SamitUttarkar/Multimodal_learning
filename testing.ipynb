{
 "cells": [
  {
   "cell_type": "code",
   "execution_count": 1,
   "id": "8d81aabb",
   "metadata": {},
   "outputs": [],
   "source": [
    "import numpy as np"
   ]
  },
  {
   "cell_type": "code",
   "execution_count": 2,
   "id": "757c0e93",
   "metadata": {},
   "outputs": [],
   "source": [
    "train = np.load('padded_train_data_los.npy')"
   ]
  },
  {
   "cell_type": "code",
   "execution_count": 3,
   "id": "9cc99454",
   "metadata": {},
   "outputs": [
    {
     "data": {
      "text/plain": [
       "(14681, 61, 18)"
      ]
     },
     "execution_count": 3,
     "metadata": {},
     "output_type": "execute_result"
    }
   ],
   "source": [
    "train.shape"
   ]
  },
  {
   "cell_type": "code",
   "execution_count": 4,
   "id": "8f2d77c5",
   "metadata": {},
   "outputs": [],
   "source": [
    "import os\n",
    "import pandas as pd\n",
    "import numpy as np\n",
    "\n",
    "class ReadmissionReader:\n",
    "    def __init__(self, root_dir, mode='train', seed=42):\n",
    "        assert mode in ['train', 'test'], \"Mode must be 'train' or 'test'\"\n",
    "        self.root_dir = root_dir\n",
    "        self.mode_dir = os.path.join(root_dir, mode)\n",
    "        self.seed = seed\n",
    "        self.patient_files = self._get_patient_files()\n",
    "        np.random.seed(seed)\n",
    "        np.random.shuffle(self.patient_files)\n",
    "\n",
    "    def _get_patient_files(self):\n",
    "        patient_files = []\n",
    "        for patient in os.listdir(self.mode_dir):\n",
    "            patient_dir = os.path.join(self.mode_dir, patient)\n",
    "            if os.path.isdir(patient_dir):\n",
    "                patient_files.append(patient_dir)\n",
    "        return patient_files\n",
    "\n",
    "    def get_number_of_examples(self):\n",
    "        return len(self.patient_files)\n",
    "\n",
    "    def read_example(self, i):\n",
    "        patient_dir = self.patient_files[i]\n",
    "        patient_id = os.path.basename(patient_dir)\n",
    "        episode_files = [f for f in os.listdir(patient_dir) if f.startswith('episode')]\n",
    "        episode_timeseries_files = [f for f in episode_files if f.endswith('_timeseries.csv')]\n",
    "        episode_timeseries_files.sort()\n",
    "\n",
    "        # Check if there are any episode timeseries files\n",
    "        if not episode_timeseries_files:\n",
    "            return None\n",
    "\n",
    "        # Load the first episode timeseries data\n",
    "        episode1_timeseries_file = episode_timeseries_files[0]\n",
    "        episode1_timeseries_path = os.path.join(patient_dir, episode1_timeseries_file)\n",
    "        episode1_timeseries_data = pd.read_csv(episode1_timeseries_path)\n",
    "        episode1_timeseries_data = episode1_timeseries_data.fillna('')\n",
    "        # Get the header\n",
    "        header = episode1_timeseries_data.columns.tolist()\n",
    "\n",
    "        # Check if there are more than one episode timeseries files\n",
    "        y_label = 1 if len(episode_timeseries_files) > 1 else 0\n",
    "\n",
    "        # Get the total time\n",
    "        total_time = float(episode1_timeseries_data.iloc[-1, 0])\n",
    "\n",
    "        example = {\n",
    "            'X': episode1_timeseries_data.values.astype(str),\n",
    "            't': total_time,\n",
    "            'y': y_label,\n",
    "            'header': header,\n",
    "            'name': f\"{patient_id}_{episode1_timeseries_file}\"\n",
    "        }\n",
    "\n",
    "        return example\n",
    "\n"
   ]
  },
  {
   "cell_type": "code",
   "execution_count": 5,
   "id": "9413004d",
   "metadata": {},
   "outputs": [],
   "source": [
    "dataset_dir = r\"C:\\Users\\samit\\OneDrive\\Desktop\\Datasets\\data\\decompensation\"\n",
    "\n",
    "root_dir = r'C:\\Users\\samit\\OneDrive\\Desktop\\Datasets\\data\\root'"
   ]
  },
  {
   "cell_type": "code",
   "execution_count": 6,
   "id": "2e91a6cf",
   "metadata": {},
   "outputs": [
    {
     "name": "stdout",
     "output_type": "stream",
     "text": [
      "Number of training examples: 28728\n",
      "Number of testing examples: 5070\n"
     ]
    }
   ],
   "source": [
    "train_reader = ReadmissionReader(root_dir, mode='train')\n",
    "test_reader = ReadmissionReader(root_dir, mode='test')\n",
    "print(\"Number of training examples:\", train_reader.get_number_of_examples())\n",
    "print(\"Number of testing examples:\", test_reader.get_number_of_examples())"
   ]
  },
  {
   "cell_type": "code",
   "execution_count": 9,
   "id": "48f83f49",
   "metadata": {},
   "outputs": [],
   "source": [
    "example = train_reader.read_example(0)"
   ]
  },
  {
   "cell_type": "code",
   "execution_count": 12,
   "id": "b5b7e0aa",
   "metadata": {},
   "outputs": [
    {
     "data": {
      "text/plain": [
       "630"
      ]
     },
     "execution_count": 12,
     "metadata": {},
     "output_type": "execute_result"
    }
   ],
   "source": [
    "len(example['X'])"
   ]
  },
  {
   "cell_type": "code",
   "execution_count": 46,
   "id": "3dcc605a",
   "metadata": {},
   "outputs": [],
   "source": [
    "train_label =np.load('padded_test_data_pheno.npy')"
   ]
  },
  {
   "cell_type": "code",
   "execution_count": 50,
   "id": "9070bd97",
   "metadata": {},
   "outputs": [
    {
     "data": {
      "text/plain": [
       "array([ 0.        ,  0.        , -0.7203045 ,  0.        ,  5.        ,\n",
       "        5.        ,  0.34874293, 11.        , -3.613865  , -1.6303232 ,\n",
       "        0.        , -0.505136  ,  0.3877461 , -0.2615161 ,  0.09907782,\n",
       "        0.38630238,  0.        ,  0.        ], dtype=float32)"
      ]
     },
     "execution_count": 50,
     "metadata": {},
     "output_type": "execute_result"
    }
   ],
   "source": [
    "train_label[0][0]"
   ]
  },
  {
   "cell_type": "code",
   "execution_count": null,
   "id": "48aa807d",
   "metadata": {},
   "outputs": [],
   "source": []
  },
  {
   "cell_type": "code",
   "execution_count": null,
   "id": "1266b85e",
   "metadata": {},
   "outputs": [],
   "source": []
  },
  {
   "cell_type": "code",
   "execution_count": null,
   "id": "34fd6aab",
   "metadata": {},
   "outputs": [],
   "source": []
  },
  {
   "cell_type": "code",
   "execution_count": 13,
   "id": "96b6014f",
   "metadata": {},
   "outputs": [
    {
     "name": "stderr",
     "output_type": "stream",
     "text": [
      "C:\\Users\\samit\\anaconda3\\lib\\site-packages\\seaborn\\distributions.py:2619: FutureWarning: `distplot` is a deprecated function and will be removed in a future version. Please adapt your code to use either `displot` (a figure-level function with similar flexibility) or `histplot` (an axes-level function for histograms).\n",
      "  warnings.warn(msg, FutureWarning)\n"
     ]
    },
    {
     "data": {
      "text/plain": [
       "<function matplotlib.pyplot.show(close=None, block=None)>"
      ]
     },
     "execution_count": 13,
     "metadata": {},
     "output_type": "execute_result"
    },
    {
     "data": {
      "image/png": "[encoded data removed]",
      "text/plain": [
       "<Figure size 1000x600 with 1 Axes>"
      ]
     },
     "metadata": {},
     "output_type": "display_data"
    }
   ],
   "source": [
    "import seaborn as sns\n",
    "import matplotlib.pyplot as plt\n",
    "\n",
    "# Get the total number of examples\n",
    "total_examples = train_reader.get_number_of_examples()\n",
    "\n",
    "# Initialize a list to store the lengths of timeseries data for each patient\n",
    "lengths = []\n",
    "duration = []\n",
    "# Loop through all the examples\n",
    "for i in range(total_examples):\n",
    "    example = train_reader.read_example(i)\n",
    "    # Check if example is not None before accessing its keys\n",
    "    if example is not None:\n",
    "        # Append the length of the 'X' array to the lengths list\n",
    "        lengths.append(len(example['X']))\n",
    "        duration.append(example['t'])\n",
    "# Plotting the distribution of lengths\n",
    "plt.figure(figsize=(10, 6))\n",
    "sns.distplot(lengths, bins=30, kde=True)\n",
    "plt.title('Distribution of Length of Timeseries Data for All Patients')\n",
    "plt.xlabel('Length of Timeseries Data')\n",
    "plt.ylabel('Density')\n",
    "plt.show\n",
    "\n"
   ]
  },
  {
   "cell_type": "code",
   "execution_count": null,
   "id": "baaf5bd3",
   "metadata": {},
   "outputs": [],
   "source": []
  },
  {
   "cell_type": "code",
   "execution_count": null,
   "id": "d2fc3668",
   "metadata": {},
   "outputs": [],
   "source": []
  },
  {
   "cell_type": "code",
   "execution_count": 26,
   "id": "6d4d7362",
   "metadata": {},
   "outputs": [
    {
     "data": {
      "image/png": "[encoded data removed]",
      "text/plain": [
       "<Figure size 700x1200 with 1 Axes>"
      ]
     },
     "metadata": {},
     "output_type": "display_data"
    }
   ],
   "source": [
    "import numpy as np\n",
    "import seaborn as sns\n",
    "import matplotlib.pyplot as plt\n",
    "\n",
    "# Set Seaborn style\n",
    "sns.set_style(\"whitegrid\")\n",
    "\n",
    "# Calculate the 90th percentile\n",
    "percentile_90 = np.percentile(lengths, 90)\n",
    "\n",
    "# Filter the lengths list to include only values less than or equal to the 90th percentile value\n",
    "filtered_lengths = [length for length in lengths if length <= percentile_90]\n",
    "\n",
    "# Calculate the average of the filtered lengths\n",
    "average_length = np.mean(filtered_lengths)\n",
    "\n",
    "# Create the vertical box plot with a bright gradient color\n",
    "plt.figure(figsize=(7, 12))\n",
    "sns.boxplot(y=filtered_lengths, palette=\"viridis\", width=0.3)\n",
    "\n",
    "# Plot a horizontal line for the average and label it\n",
    "plt.axhline(y=average_length, color='red', linestyle='--', label=f'Average: {average_length:.2f}')\n",
    "plt.legend(loc='upper right', fontsize=12)\n",
    "\n",
    "plt.title('Box Plot of Length of Timeseries Data (Up to 90th Percentile)', fontsize=16)\n",
    "plt.ylabel('Length of Timeseries Data', fontsize=14)\n",
    "plt.xticks(fontsize=12)\n",
    "plt.yticks(fontsize=12)\n",
    "sns.despine(left=True)\n",
    "\n",
    "plt.show()\n",
    "\n",
    "\n",
    "\n"
   ]
  },
  {
   "cell_type": "code",
   "execution_count": 20,
   "id": "8b0315e2",
   "metadata": {},
   "outputs": [
    {
     "name": "stdout",
     "output_type": "stream",
     "text": [
      "The length at the 90th percentile is: 138.0\n"
     ]
    }
   ],
   "source": [
    "import numpy as np\n",
    "\n",
    "# Calculate the 90th percentile\n",
    "percentile_90 = np.percentile(lengths, 75)\n",
    "\n",
    "print(f\"The length at the 90th percentile is: {percentile_90}\")\n"
   ]
  },
  {
   "cell_type": "code",
   "execution_count": 28,
   "id": "d03de83e",
   "metadata": {},
   "outputs": [
    {
     "name": "stdout",
     "output_type": "stream",
     "text": [
      "The value 142 captures the 75.98th percentile of the data.\n"
     ]
    }
   ],
   "source": [
    "from scipy.stats import percentileofscore\n",
    "\n",
    "# Calculate the percentile rank of the value 142 in the filtered_lengths list\n",
    "percentile_rank = percentileofscore(lengths, 142)\n",
    "\n",
    "print(f\"The value 142 captures the {percentile_rank:.2f}th percentile of the data.\")\n"
   ]
  },
  {
   "cell_type": "code",
   "execution_count": 32,
   "id": "e132241b",
   "metadata": {},
   "outputs": [
    {
     "data": {
      "image/png": "[encoded data removed]",
      "text/plain": [
       "<Figure size 700x500 with 1 Axes>"
      ]
     },
     "metadata": {},
     "output_type": "display_data"
    }
   ],
   "source": [
    "import numpy as np\n",
    "import seaborn as sns\n",
    "import matplotlib.pyplot as plt\n",
    "\n",
    "# Set Seaborn style\n",
    "sns.set_style(\"whitegrid\")\n",
    "\n",
    "# Calculate the 90th percentile\n",
    "percentile_90 = np.percentile(lengths, 90)\n",
    "\n",
    "# Calculate the interquartile range (IQR)\n",
    "Q1 = np.percentile(lengths, 25)\n",
    "Q3 = np.percentile(lengths, 75)\n",
    "IQR = Q3 - Q1\n",
    "\n",
    "# Calculate the whis value such that it corresponds to the 90th percentile\n",
    "whis_value = (percentile_90 - Q1) / IQR\n",
    "\n",
    "# Create the vertical box plot with a bright gradient color without showing outliers above the 90th percentile\n",
    "plt.figure(figsize=(7, 5))\n",
    "sns.boxplot(y=lengths, palette=\"viridis\", width=0.3, whis=whis_value, showfliers=False)\n",
    "\n",
    "# Plot a horizontal line for the average and label it\n",
    "average_length = np.mean(lengths)\n",
    "plt.axhline(y=average_length, color='red', linestyle='--', label=f'Average: {average_length:.2f}')\n",
    "plt.legend(loc='upper right', fontsize=12)\n",
    "\n",
    "plt.title('Box Plot of Length of Timeseries Data', fontsize=16)\n",
    "plt.ylabel('Length of Timeseries Data', fontsize=14)\n",
    "plt.xticks(fontsize=12)\n",
    "plt.yticks(fontsize=12)\n",
    "sns.despine(left=True)\n",
    "\n",
    "plt.show()\n"
   ]
  },
  {
   "cell_type": "code",
   "execution_count": 33,
   "id": "bb16a92d",
   "metadata": {},
   "outputs": [
    {
     "data": {
      "text/plain": [
       "44020"
      ]
     },
     "execution_count": 33,
     "metadata": {},
     "output_type": "execute_result"
    }
   ],
   "source": [
    "max(lengths)"
   ]
  },
  {
   "cell_type": "code",
   "execution_count": 35,
   "id": "93f42a30",
   "metadata": {},
   "outputs": [],
   "source": [
    "padded_test_data_read = np.load('padded_test_data.npy')\n",
    "padded_train_data_read = np.load('padded_train_data.npy')\n",
    "test_data_static_read = np.load('test_data_static.npy')\n",
    "test_labels_read = np.load('test_labels.npy')\n",
    "train_data_static_read = np.load('train_data_static.npy')"
   ]
  },
  {
   "cell_type": "code",
   "execution_count": 37,
   "id": "58b1e934",
   "metadata": {},
   "outputs": [
    {
     "name": "stdout",
     "output_type": "stream",
     "text": [
      "(5066, 142, 18)\n",
      "(28692, 142, 18)\n",
      "(5066, 7)\n",
      "(5066,)\n",
      "(14681, 7)\n"
     ]
    }
   ],
   "source": [
    "print(padded_test_data_read.shape)\n",
    "print(padded_train_data_read.shape)\n",
    "print(test_data_static_read.shape)\n",
    "print(test_labels_read.shape)\n",
    "print(train_data_static_read.shape)"
   ]
  },
  {
   "cell_type": "code",
   "execution_count": 39,
   "id": "f398959c",
   "metadata": {},
   "outputs": [],
   "source": [
    "\n",
    "padded_train_data_los = np.load('padded_train_data_los.npy')\n",
    "#train_data_static_los = np.load('train_data_static_los.npy')\n",
    "test_data_static_los = np.load('test_data_static_los.npy')\n",
    "padded_test_data_los = np.load('padded_test_data_los.npy')\n",
    "test_labels_los = np.load('test_labels_los.npy')\n",
    "train_labels_los = np.load('train_labels_los.npy')\n",
    "padded_val_data_los = np.load('padded_val_data_los.npy')\n",
    "val_data_static_los = np.load('val_data_static_los.npy')\n",
    "val_data_static_los = np.load('val_labels_los.npy')"
   ]
  },
  {
   "cell_type": "code",
   "execution_count": 42,
   "id": "a6feb2b6",
   "metadata": {},
   "outputs": [
    {
     "name": "stdout",
     "output_type": "stream",
     "text": [
      "(14681, 61, 18)\n",
      "(3236, 7)\n",
      "(3236, 61, 18)\n",
      "(14681,)\n",
      "(3236,)\n",
      "(3222, 61, 18)\n",
      "(3222,)\n",
      "(3222,)\n"
     ]
    }
   ],
   "source": [
    "print(padded_train_data_los.shape)\n",
    "#print(train_data_static_los.shape)\n",
    "print(test_data_static_los.shape)\n",
    "print(padded_test_data_los.shape)\n",
    "print(train_labels_los.shape)\n",
    "print(test_labels_los.shape)\n",
    "print(padded_val_data_los.shape)\n",
    "print(val_data_static_los.shape)\n",
    "print(val_data_static_los.shape)"
   ]
  },
  {
   "cell_type": "code",
   "execution_count": 44,
   "id": "c328257f",
   "metadata": {},
   "outputs": [],
   "source": [
    "padded_test_data_pheno = np.load('padded_test_data_pheno.npy')\n",
    "padded_train_data_pheno = np.load('padded_train_data_pheno.npy')\n",
    "test_data_static_pheno = np.load('test_data_static_pheno.npy')\n",
    "test_labels_pheno = np.load('test_labels_pheno.npy')\n",
    "train_labels_pheno = np.load('train_labels_pheno.npy')\n",
    "train_data_static_pheno = np.load('train_data_static_pheno.npy')"
   ]
  },
  {
   "cell_type": "code",
   "execution_count": 45,
   "id": "05d8b4c6",
   "metadata": {},
   "outputs": [
    {
     "name": "stdout",
     "output_type": "stream",
     "text": [
      "(6281, 142, 18)\n",
      "(35621, 142, 18)\n",
      "(6281, 8)\n",
      "(6281, 25)\n",
      "(35621, 25)\n",
      "(35621, 8)\n"
     ]
    }
   ],
   "source": [
    "print(padded_test_data_pheno.shape)\n",
    "print(padded_train_data_pheno.shape)\n",
    "print(test_data_static_pheno.shape)\n",
    "print(test_labels_pheno.shape)\n",
    "print(train_labels_pheno.shape)\n",
    "print(train_data_static_pheno.shape)"
   ]
  },
  {
   "cell_type": "code",
   "execution_count": 53,
   "id": "04668e51",
   "metadata": {},
   "outputs": [],
   "source": [
    "import os\n",
    "import numpy as np\n",
    "import random\n",
    "import pandas as pd\n",
    "import matplotlib.pyplot as plt\n",
    "\n",
    "class Reader(object):\n",
    "    def __init__(self, dataset_dir, listfile=None):\n",
    "        self._dataset_dir = dataset_dir\n",
    "        self._current_index = 0\n",
    "        if listfile is None:\n",
    "            listfile_path = os.path.join(dataset_dir, \"listfile.csv\")\n",
    "        else:\n",
    "            listfile_path = listfile\n",
    "        with open(listfile_path, \"r\") as lfile:\n",
    "            self._data = lfile.readlines()\n",
    "        self._listfile_header = self._data[0]\n",
    "        self._data = self._data[1:]\n",
    "\n",
    "    def get_number_of_examples(self):\n",
    "        return len(self._data)\n",
    "\n",
    "    def random_shuffle(self, seed=None):\n",
    "        if seed is not None:\n",
    "            random.seed(seed)\n",
    "        random.shuffle(self._data)\n",
    "\n",
    "    def read_example(self, index):\n",
    "        raise NotImplementedError()\n",
    "\n",
    "    def read_next(self):\n",
    "        to_read_index = self._current_index\n",
    "        self._current_index += 1\n",
    "        if self._current_index == self.get_number_of_examples():\n",
    "            self._current_index = 0\n",
    "        return self.read_example(to_read_index)"
   ]
  },
  {
   "cell_type": "code",
   "execution_count": 54,
   "id": "0970f5b5",
   "metadata": {},
   "outputs": [],
   "source": [
    "class InHospitalMortalityReader(Reader):\n",
    "    def __init__(self, dataset_dir, listfile=None, period_length=48.0):\n",
    "        \"\"\" Reader for in-hospital moratality prediction task.\n",
    "\n",
    "        :param dataset_dir:   Directory where timeseries files are stored.\n",
    "        :param listfile:      Path to a listfile. If this parameter is left `None` then\n",
    "                              `dataset_dir/listfile.csv` will be used.\n",
    "        :param period_length: Length of the period (in hours) from which the prediction is done.\n",
    "        \"\"\"\n",
    "        Reader.__init__(self, dataset_dir, listfile)\n",
    "        self._data = [line.split(',') for line in self._data]\n",
    "        self._data = [(x, int(y)) for (x, y) in self._data]\n",
    "        self._period_length = period_length\n",
    "\n",
    "    def _read_timeseries(self, ts_filename):\n",
    "        ret = []\n",
    "        with open(os.path.join(self._dataset_dir, ts_filename), \"r\") as tsfile:\n",
    "            header = tsfile.readline().strip().split(',')\n",
    "            assert header[0] == \"Hours\"\n",
    "            for line in tsfile:\n",
    "                mas = line.strip().split(',')\n",
    "                ret.append(np.array(mas))\n",
    "        return (np.stack(ret), header)\n",
    "\n",
    "    def read_example(self, index):\n",
    "        \"\"\" Reads the example with given index.\n",
    "\n",
    "        :param index: Index of the line of the listfile to read (counting starts from 0).\n",
    "        :return: Dictionary with the following keys:\n",
    "            X : np.array\n",
    "                2D array containing all events. Each row corresponds to a moment.\n",
    "                First column is the time and other columns correspond to different\n",
    "                variables.\n",
    "            t : float\n",
    "                Length of the data in hours. Note, in general, it is not equal to the\n",
    "                timestamp of last event.\n",
    "            y : int (0 or 1)\n",
    "                In-hospital mortality.\n",
    "            header : array of strings\n",
    "                Names of the columns. The ordering of the columns is always the same.\n",
    "            name: Name of the sample.\n",
    "        \"\"\"\n",
    "        if index < 0 or index >= len(self._data):\n",
    "            raise ValueError(\"Index must be from 0 (inclusive) to number of lines (exclusive).\")\n",
    "\n",
    "        name = self._data[index][0]\n",
    "        t = self._period_length\n",
    "        y = self._data[index][1]\n",
    "        (X, header) = self._read_timeseries(name)\n",
    "\n",
    "        return {\"X\": X,\n",
    "                \"t\": t,\n",
    "                \"y\": y,\n",
    "                \"header\": header,\n",
    "                \"name\": name}"
   ]
  },
  {
   "cell_type": "code",
   "execution_count": 55,
   "id": "bcdcccc1",
   "metadata": {},
   "outputs": [],
   "source": [
    "dataset_dir = \"C:\\\\Users\\\\samit\\\\OneDrive\\\\Desktop\\\\Datasets\\\\data\\\\in-hospital-mortality\"\n",
    "root_dir = r'C:\\Users\\samit\\OneDrive\\Desktop\\Datasets\\data\\root'"
   ]
  },
  {
   "cell_type": "code",
   "execution_count": 56,
   "id": "7b8f6213",
   "metadata": {},
   "outputs": [],
   "source": [
    "train_reader = InHospitalMortalityReader(dataset_dir=os.path.join(dataset_dir, 'train'),\n",
    "                                         listfile=os.path.join(dataset_dir, 'train_listfile.csv'),\n",
    "                                         period_length=48.0)\n",
    "\n",
    "\n",
    "val_reader = InHospitalMortalityReader(dataset_dir=os.path.join(dataset_dir, 'train'),\n",
    "                                       listfile=os.path.join(dataset_dir, 'val_listfile.csv'),\n",
    "                                       period_length=48.0)\n",
    "\n",
    "test_reader = InHospitalMortalityReader(dataset_dir=os.path.join(dataset_dir, 'test'),\n",
    "                                       listfile=os.path.join(dataset_dir, 'test_listfile.csv'),\n",
    "                                       period_length=48.0)"
   ]
  },
  {
   "cell_type": "code",
   "execution_count": 58,
   "id": "e4c06324",
   "metadata": {},
   "outputs": [],
   "source": [
    "import os\n",
    "import pandas as pd\n",
    "\n",
    "def get_los(data, root_dir, mode='train'):\n",
    "    # Extract the patient ID and episode number from the 'name' field\n",
    "    name_parts = data['name'].split('_')\n",
    "    patient_id = name_parts[0]\n",
    "    episode_number = name_parts[1]\n",
    "\n",
    "    # Construct the path to the patient folder\n",
    "    patient_folder = os.path.join(root_dir, mode, patient_id)\n",
    "\n",
    "    # Load the episode data\n",
    "    episode_path = os.path.join(patient_folder, f'{episode_number}.csv')\n",
    "    episode_data = pd.read_csv(episode_path)\n",
    "\n",
    "    # Get the ICU stay ID from the episode data\n",
    "    icu_stay_id = episode_data['Icustay'].values[0]\n",
    "\n",
    "    # Load the stays data\n",
    "    stays_path = os.path.join(patient_folder, 'stays.csv')\n",
    "    stays_data = pd.read_csv(stays_path)\n",
    "\n",
    "    # Get the length of stay for the specific ICU stay ID\n",
    "    los = stays_data[stays_data['ICUSTAY_ID'] == int(icu_stay_id)]['LOS'].values[0]\n",
    "\n",
    "    return los"
   ]
  },
  {
   "cell_type": "code",
   "execution_count": 60,
   "id": "6c715ff5",
   "metadata": {},
   "outputs": [],
   "source": [
    "labels = np.load('train_labels_los.npy')"
   ]
  },
  {
   "cell_type": "code",
   "execution_count": 72,
   "id": "c76c0314",
   "metadata": {},
   "outputs": [
    {
     "name": "stderr",
     "output_type": "stream",
     "text": [
      "C:\\Users\\samit\\anaconda3\\lib\\site-packages\\seaborn\\distributions.py:2619: FutureWarning: `distplot` is a deprecated function and will be removed in a future version. Please adapt your code to use either `displot` (a figure-level function with similar flexibility) or `histplot` (an axes-level function for histograms).\n",
      "  warnings.warn(msg, FutureWarning)\n"
     ]
    },
    {
     "data": {
      "image/png": "[encoded data removed]",
      "text/plain": [
       "<Figure size 640x480 with 1 Axes>"
      ]
     },
     "metadata": {},
     "output_type": "display_data"
    }
   ],
   "source": [
    "sns.distplot(labels)\n",
    "plt.title('Distribution of Length of Stays')\n",
    "plt.xlabel('Total Time Duration (Days)')\n",
    "plt.show()"
   ]
  },
  {
   "cell_type": "code",
   "execution_count": null,
   "id": "cbbed557",
   "metadata": {},
   "outputs": [],
   "source": []
  }
 ],
 "metadata": {
  "kernelspec": {
   "display_name": "Python 3 (ipykernel)",
   "language": "python",
   "name": "python3"
  },
  "language_info": {
   "codemirror_mode": {
    "name": "ipython",
    "version": 3
   },
   "file_extension": ".py",
   "mimetype": "text/x-python",
   "name": "python",
   "nbconvert_exporter": "python",
   "pygments_lexer": "ipython3",
   "version": "3.9.13"
  }
 },
 "nbformat": 4,
 "nbformat_minor": 5
}
